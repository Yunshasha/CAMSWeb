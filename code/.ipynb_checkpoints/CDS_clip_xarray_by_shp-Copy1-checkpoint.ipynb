{
 "cells": [
  {
   "cell_type": "code",
   "execution_count": null,
   "id": "db5709d1-1ded-424e-bc4f-b6ec2fabee06",
   "metadata": {},
   "outputs": [],
   "source": [
    "import matplotlib.pyplot as plt\n",
    "import pandas as pd\n",
    "import geopandas as gpd\n",
    "import contextily as ctx\n",
    "import numpy as np\n",
    "import xarray as xr\n",
    "from shapely.geometry import mapping"
   ]
  },
  {
   "cell_type": "code",
   "execution_count": null,
   "id": "dba93198-c0b6-44fa-b46d-0f8c26c4ace9",
   "metadata": {},
   "outputs": [],
   "source": [
    "path_rg = \"data/NUTS_RG_01M_2021_4326_LEVL_2.shp\"\n",
    "gdf_rg = gpd.read_file(path_rg)\n",
    "gdf_rg.crs = \"EPSG:4326\""
   ]
  },
  {
   "cell_type": "code",
   "execution_count": null,
   "id": "543f0b08-40c6-4e45-8bb5-5087215ae07c",
   "metadata": {},
   "outputs": [],
   "source": [
    "gdf_rg[gdf_rg.NUTS_NAME == \"Lombardia\"]"
   ]
  },
  {
   "cell_type": "code",
   "execution_count": null,
   "id": "e5a4f8c9-04a9-46ce-aa38-d5132188b033",
   "metadata": {},
   "outputs": [],
   "source": [
    "# import import numpy as np\n",
    "# import pandas as pd\n",
    "# import xarray as xr\n",
    "# import geojson\n",
    "# from shapely.geometry import mapping\n",
    "import getMean"
   ]
  },
  {
   "cell_type": "code",
   "execution_count": null,
   "id": "b2f667b3-7bc3-45aa-80ef-d8363ec78984",
   "metadata": {},
   "outputs": [],
   "source": [
    "# gdf_nation= gdf_rg[gdf_rg.CNTR_CODE == \"MI\"]\n",
    "gdf_nation= gdf_rg[gdf_rg.NUTS_NAME == \"Lombardia\"]\n",
    "area = gdf_nation.bounds\n",
    "bounds = gdf_nation.geometry.apply(mapping)\n",
    "NWSE_area = [list(area.maxy.values)[0],list(area.minx.values)[0],list(area.miny.values)[0],list(area.maxx.values)[0]]"
   ]
  },
  {
   "cell_type": "code",
   "execution_count": null,
   "id": "60548b7e-f27c-4549-ad2a-4aa72d0d13b6",
   "metadata": {},
   "outputs": [],
   "source": [
    "bounds"
   ]
  },
  {
   "cell_type": "code",
   "execution_count": null,
   "id": "7bb99710-a19f-4caa-985e-8781d88137f2",
   "metadata": {},
   "outputs": [],
   "source": [
    "NWSE_area"
   ]
  },
  {
   "cell_type": "code",
   "execution_count": null,
   "id": "7d5ba1dd-1400-474f-ab13-01fdbebb5b7c",
   "metadata": {},
   "outputs": [],
   "source": [
    "ds_name = 'cams-europe-air-quality-forecasts'\n",
    "ds_time = '2022-01-01/2022-01-01'\n",
    "ds_variable = 'carbon_monoxide'    \n",
    "ds_area = NWSE_area\n",
    "ds_bounds = bounds\n",
    "\n",
    "[mean_data, latitude, longitude, rdata]= getMean.get_mean(ds_name=ds_name, ds_time=ds_time, ds_variable=ds_variable,ds_area=ds_area,ds_bounds=ds_bounds)"
   ]
  },
  {
   "cell_type": "code",
   "execution_count": null,
   "id": "dbacfd0e-8d33-49f0-86d1-a4bf62b6e212",
   "metadata": {},
   "outputs": [],
   "source": [
    "#pd.DataFrame(mean_data).to_csv(\"clipped23.csv\")"
   ]
  },
  {
   "cell_type": "code",
   "execution_count": null,
   "id": "a4fb0fc7-fe80-4157-86ff-0bd2c955e980",
   "metadata": {},
   "outputs": [],
   "source": [
    "mean_country = np.nanmean(mean_data)\n",
    "print(mean_country)\n",
    "type(mean_country)"
   ]
  },
  {
   "cell_type": "code",
   "execution_count": null,
   "id": "4d396870-0792-4722-a2c3-e4b22e2eef66",
   "metadata": {},
   "outputs": [],
   "source": [
    "mean_country.tolist()"
   ]
  },
  {
   "cell_type": "code",
   "execution_count": null,
   "id": "61dddbe6-e220-4f0f-a96d-91b9138d8dc1",
   "metadata": {},
   "outputs": [],
   "source": []
  },
  {
   "cell_type": "code",
   "execution_count": null,
   "id": "20e912d7-c706-4ce5-bc1b-964851018339",
   "metadata": {},
   "outputs": [],
   "source": []
  },
  {
   "cell_type": "code",
   "execution_count": null,
   "id": "5e9e8a72-a244-4cc0-a3ae-8194f7ac89f0",
   "metadata": {},
   "outputs": [],
   "source": []
  },
  {
   "cell_type": "code",
   "execution_count": null,
   "id": "a44e2eec-52e1-4bab-afe3-46cf22679cd2",
   "metadata": {},
   "outputs": [],
   "source": []
  },
  {
   "cell_type": "code",
   "execution_count": 1,
   "id": "6009d5b8-b142-4782-8f66-7c368720ff52",
   "metadata": {},
   "outputs": [
    {
     "name": "stderr",
     "output_type": "stream",
     "text": [
      "2022-10-12 22:13:38,836 INFO Welcome to the CDS\n",
      "2022-10-12 22:13:38,838 INFO Sending request to https://ads.atmosphere.copernicus.eu/api/v2/resources/cams-europe-air-quality-forecasts\n",
      "2022-10-12 22:13:38,890 INFO Request is queued\n",
      "2022-10-12 22:13:39,919 INFO Request is running\n",
      "2022-10-12 22:13:43,777 INFO Request is completed\n",
      "2022-10-12 22:13:43,777 INFO Downloading https://download-0004-ads-clone.copernicus-climate.eu/cache-compute-0004/cache/data2/adaptor.cams_regional_fc.retrieve-1665605623.9727798-22906-1-06bba1fb-eef9-4300-bd28-6abd030108f9.nc to ozonedownload999999999.nc (53.1K)\n",
      "2022-10-12 22:13:44,188 INFO Download rate 129.5K/s                                                                    \n"
     ]
    },
    {
     "data": {
      "text/plain": [
       "Result(content_length=54392,content_type=application/x-netcdf,location=https://download-0004-ads-clone.copernicus-climate.eu/cache-compute-0004/cache/data2/adaptor.cams_regional_fc.retrieve-1665605623.9727798-22906-1-06bba1fb-eef9-4300-bd28-6abd030108f9.nc)"
      ]
     },
     "execution_count": 1,
     "metadata": {},
     "output_type": "execute_result"
    }
   ],
   "source": [
    "import cdsapi\n",
    "\n",
    "c = cdsapi.Client()\n",
    "\n",
    "c.retrieve(\n",
    "    'cams-europe-air-quality-forecasts',\n",
    "    {\n",
    "        'variable': 'ozone',\n",
    "        'model': 'ensemble',\n",
    "        'level': '0',\n",
    "        'date': '2022-01-01/2022-01-01',\n",
    "        'type': 'analysis',\n",
    "        'time': [\n",
    "            '00:00', '01:00', '02:00',\n",
    "            '03:00', '04:00', '05:00',\n",
    "            '06:00', '07:00', '08:00',\n",
    "            '09:00', '10:00', '11:00',\n",
    "            '12:00', '13:00', '14:00',\n",
    "            '15:00', '16:00', '17:00',\n",
    "            '18:00', '19:00', '20:00',\n",
    "            '21:00', '22:00', '23:00',\n",
    "        ],\n",
    "        'leadtime_hour': '0',\n",
    "        'area': [\n",
    "            46.634675, 8.498355, 44.680136, 11.426766,\n",
    "        ],\n",
    "        'format': 'netcdf',\n",
    "    },\n",
    "    'ozonedownload999999999.nc')"
   ]
  },
  {
   "cell_type": "code",
   "execution_count": null,
   "id": "3eca0fbb-de32-48a6-9111-64dd2641e6d4",
   "metadata": {},
   "outputs": [],
   "source": [
    "link_str = a.location\n",
    "link_str"
   ]
  },
  {
   "cell_type": "code",
   "execution_count": null,
   "id": "5240c205-9006-41c1-9375-4b5a11d106b8",
   "metadata": {},
   "outputs": [],
   "source": [
    "\n",
    "data_path = link_str\n",
    "\n",
    "max_temp_xr  = xr.open_dataset(data_path)  \n",
    "# View xarray object\n",
    "max_temp_xr"
   ]
  },
  {
   "cell_type": "code",
   "execution_count": null,
   "id": "11d7bb31-27dd-4afa-ace0-c1c80e0c16f8",
   "metadata": {},
   "outputs": [],
   "source": []
  }
 ],
 "metadata": {
  "kernelspec": {
   "display_name": "Python 3 (ipykernel)",
   "language": "python",
   "name": "python3"
  },
  "language_info": {
   "codemirror_mode": {
    "name": "ipython",
    "version": 3
   },
   "file_extension": ".py",
   "mimetype": "text/x-python",
   "name": "python",
   "nbconvert_exporter": "python",
   "pygments_lexer": "ipython3",
   "version": "3.7.12"
  }
 },
 "nbformat": 4,
 "nbformat_minor": 5
}
