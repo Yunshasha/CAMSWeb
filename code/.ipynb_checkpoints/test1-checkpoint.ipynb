{
 "cells": [
  {
   "cell_type": "code",
   "execution_count": 1,
   "id": "5cf38962-0882-4ab9-8c8b-8d5968b0ad4e",
   "metadata": {},
   "outputs": [],
   "source": [
    "from demo1.myFunctions import getMean, DIYColorMap\n",
    "# from myFunctions import getTest \n",
    "# from matplotlib import colors\n",
    "import numpy as np\n",
    "import pandas as pd\n",
    "import xarray as xr\n",
    "import matplotlib.pyplot as plt\n",
    "import cartopy.crs as ccrs\n",
    "import cartopy.feature as cfeature\n",
    "from matplotlib.lines import Line2D\n",
    "\n",
    "import matplotlib.pyplot as plt\n",
    "import base64\n",
    "from io import BytesIO\n",
    "import cdsapi"
   ]
  },
  {
   "cell_type": "code",
   "execution_count": 4,
   "id": "05f2a4a0-2c3f-4e43-9a63-bac6f2c582ae",
   "metadata": {},
   "outputs": [
    {
     "name": "stderr",
     "output_type": "stream",
     "text": [
      "2022-07-12 13:18:07,566 INFO Welcome to the CDS\n",
      "2022-07-12 13:18:07,568 INFO Sending request to https://cds.climate.copernicus.eu/api/v2/resources/cams-europe-air-quality-forecasts\n"
     ]
    },
    {
     "ename": "Exception",
     "evalue": "Resource cams-europe-air-quality-forecasts not found",
     "output_type": "error",
     "traceback": [
      "\u001b[1;31m---------------------------------------------------------------------------\u001b[0m",
      "\u001b[1;31mHTTPError\u001b[0m                                 Traceback (most recent call last)",
      "\u001b[1;32mD:\\ProgramData\\Anaconda3\\envs\\thesis\\lib\\site-packages\\cdsapi\\api.py\u001b[0m in \u001b[0;36m_api\u001b[1;34m(self, url, request, method)\u001b[0m\n\u001b[0;32m    426\u001b[0m         \u001b[1;32mtry\u001b[0m\u001b[1;33m:\u001b[0m\u001b[1;33m\u001b[0m\u001b[1;33m\u001b[0m\u001b[0m\n\u001b[1;32m--> 427\u001b[1;33m             \u001b[0mresult\u001b[0m\u001b[1;33m.\u001b[0m\u001b[0mraise_for_status\u001b[0m\u001b[1;33m(\u001b[0m\u001b[1;33m)\u001b[0m\u001b[1;33m\u001b[0m\u001b[1;33m\u001b[0m\u001b[0m\n\u001b[0m\u001b[0;32m    428\u001b[0m             \u001b[0mreply\u001b[0m \u001b[1;33m=\u001b[0m \u001b[0mresult\u001b[0m\u001b[1;33m.\u001b[0m\u001b[0mjson\u001b[0m\u001b[1;33m(\u001b[0m\u001b[1;33m)\u001b[0m\u001b[1;33m\u001b[0m\u001b[1;33m\u001b[0m\u001b[0m\n",
      "\u001b[1;32mD:\\ProgramData\\Anaconda3\\envs\\thesis\\lib\\site-packages\\requests\\models.py\u001b[0m in \u001b[0;36mraise_for_status\u001b[1;34m(self)\u001b[0m\n\u001b[0;32m    959\u001b[0m         \u001b[1;32mif\u001b[0m \u001b[0mhttp_error_msg\u001b[0m\u001b[1;33m:\u001b[0m\u001b[1;33m\u001b[0m\u001b[1;33m\u001b[0m\u001b[0m\n\u001b[1;32m--> 960\u001b[1;33m             \u001b[1;32mraise\u001b[0m \u001b[0mHTTPError\u001b[0m\u001b[1;33m(\u001b[0m\u001b[0mhttp_error_msg\u001b[0m\u001b[1;33m,\u001b[0m \u001b[0mresponse\u001b[0m\u001b[1;33m=\u001b[0m\u001b[0mself\u001b[0m\u001b[1;33m)\u001b[0m\u001b[1;33m\u001b[0m\u001b[1;33m\u001b[0m\u001b[0m\n\u001b[0m\u001b[0;32m    961\u001b[0m \u001b[1;33m\u001b[0m\u001b[0m\n",
      "\u001b[1;31mHTTPError\u001b[0m: 404 Client Error:  for url: https://cds.climate.copernicus.eu/api/v2/resources/cams-europe-air-quality-forecasts",
      "\nDuring handling of the above exception, another exception occurred:\n",
      "\u001b[1;31mException\u001b[0m                                 Traceback (most recent call last)",
      "\u001b[1;32m~\\AppData\\Local\\Temp\\ipykernel_11084\\752103437.py\u001b[0m in \u001b[0;36m<module>\u001b[1;34m\u001b[0m\n\u001b[0;32m     24\u001b[0m         \u001b[1;34m'leadtime_hour'\u001b[0m\u001b[1;33m:\u001b[0m \u001b[1;34m'0'\u001b[0m\u001b[1;33m,\u001b[0m\u001b[1;33m\u001b[0m\u001b[1;33m\u001b[0m\u001b[0m\n\u001b[0;32m     25\u001b[0m     },\n\u001b[1;32m---> 26\u001b[1;33m     'download.nc')\n\u001b[0m",
      "\u001b[1;32mD:\\ProgramData\\Anaconda3\\envs\\thesis\\lib\\site-packages\\cdsapi\\api.py\u001b[0m in \u001b[0;36mretrieve\u001b[1;34m(self, name, request, target)\u001b[0m\n\u001b[0;32m    346\u001b[0m \u001b[1;33m\u001b[0m\u001b[0m\n\u001b[0;32m    347\u001b[0m     \u001b[1;32mdef\u001b[0m \u001b[0mretrieve\u001b[0m\u001b[1;33m(\u001b[0m\u001b[0mself\u001b[0m\u001b[1;33m,\u001b[0m \u001b[0mname\u001b[0m\u001b[1;33m,\u001b[0m \u001b[0mrequest\u001b[0m\u001b[1;33m,\u001b[0m \u001b[0mtarget\u001b[0m\u001b[1;33m=\u001b[0m\u001b[1;32mNone\u001b[0m\u001b[1;33m)\u001b[0m\u001b[1;33m:\u001b[0m\u001b[1;33m\u001b[0m\u001b[1;33m\u001b[0m\u001b[0m\n\u001b[1;32m--> 348\u001b[1;33m         \u001b[0mresult\u001b[0m \u001b[1;33m=\u001b[0m \u001b[0mself\u001b[0m\u001b[1;33m.\u001b[0m\u001b[0m_api\u001b[0m\u001b[1;33m(\u001b[0m\u001b[1;34m\"%s/resources/%s\"\u001b[0m \u001b[1;33m%\u001b[0m \u001b[1;33m(\u001b[0m\u001b[0mself\u001b[0m\u001b[1;33m.\u001b[0m\u001b[0murl\u001b[0m\u001b[1;33m,\u001b[0m \u001b[0mname\u001b[0m\u001b[1;33m)\u001b[0m\u001b[1;33m,\u001b[0m \u001b[0mrequest\u001b[0m\u001b[1;33m,\u001b[0m \u001b[1;34m\"POST\"\u001b[0m\u001b[1;33m)\u001b[0m\u001b[1;33m\u001b[0m\u001b[1;33m\u001b[0m\u001b[0m\n\u001b[0m\u001b[0;32m    349\u001b[0m         \u001b[1;32mif\u001b[0m \u001b[0mtarget\u001b[0m \u001b[1;32mis\u001b[0m \u001b[1;32mnot\u001b[0m \u001b[1;32mNone\u001b[0m\u001b[1;33m:\u001b[0m\u001b[1;33m\u001b[0m\u001b[1;33m\u001b[0m\u001b[0m\n\u001b[0;32m    350\u001b[0m             \u001b[0mresult\u001b[0m\u001b[1;33m.\u001b[0m\u001b[0mdownload\u001b[0m\u001b[1;33m(\u001b[0m\u001b[0mtarget\u001b[0m\u001b[1;33m)\u001b[0m\u001b[1;33m\u001b[0m\u001b[1;33m\u001b[0m\u001b[0m\n",
      "\u001b[1;32mD:\\ProgramData\\Anaconda3\\envs\\thesis\\lib\\site-packages\\cdsapi\\api.py\u001b[0m in \u001b[0;36m_api\u001b[1;34m(self, url, request, method)\u001b[0m\n\u001b[0;32m    448\u001b[0m                         )\n\u001b[0;32m    449\u001b[0m                     \u001b[0merror\u001b[0m \u001b[1;33m=\u001b[0m \u001b[1;34m\". \"\u001b[0m\u001b[1;33m.\u001b[0m\u001b[0mjoin\u001b[0m\u001b[1;33m(\u001b[0m\u001b[0me\u001b[0m\u001b[1;33m)\u001b[0m\u001b[1;33m\u001b[0m\u001b[1;33m\u001b[0m\u001b[0m\n\u001b[1;32m--> 450\u001b[1;33m                 \u001b[1;32mraise\u001b[0m \u001b[0mException\u001b[0m\u001b[1;33m(\u001b[0m\u001b[0merror\u001b[0m\u001b[1;33m)\u001b[0m\u001b[1;33m\u001b[0m\u001b[1;33m\u001b[0m\u001b[0m\n\u001b[0m\u001b[0;32m    451\u001b[0m             \u001b[1;32melse\u001b[0m\u001b[1;33m:\u001b[0m\u001b[1;33m\u001b[0m\u001b[1;33m\u001b[0m\u001b[0m\n\u001b[0;32m    452\u001b[0m                 \u001b[1;32mraise\u001b[0m\u001b[1;33m\u001b[0m\u001b[1;33m\u001b[0m\u001b[0m\n",
      "\u001b[1;31mException\u001b[0m: Resource cams-europe-air-quality-forecasts not found"
     ]
    }
   ],
   "source": [
    "import cdsapi\n",
    "\n",
    "c = cdsapi.Client()\n",
    "\n",
    "c.retrieve(\n",
    "    'cams-europe-air-quality-forecasts',\n",
    "    {\n",
    "        'model': 'ensemble',\n",
    "        'date': '2022-07-10/2022-07-12',\n",
    "        'format': 'netcdf',\n",
    "        'variable': 'ozone',\n",
    "        'level': '0',\n",
    "        'type': 'analysis',\n",
    "        'time': [\n",
    "            '00:00', '01:00', '02:00',\n",
    "            '03:00', '04:00', '05:00',\n",
    "            '06:00', '07:00', '08:00',\n",
    "            '09:00', '10:00', '11:00',\n",
    "            '12:00', '13:00', '14:00',\n",
    "            '15:00', '16:00', '17:00',\n",
    "            '18:00', '19:00', '20:00',\n",
    "            '21:00', '22:00', '23:00',\n",
    "        ],\n",
    "        'leadtime_hour': '0',\n",
    "    },\n",
    "    'download.nc')"
   ]
  },
  {
   "cell_type": "code",
   "execution_count": 2,
   "id": "a83d0d64-aebd-44de-82c8-0ae597d8b5ad",
   "metadata": {},
   "outputs": [],
   "source": [
    "ds_name = 'cams-europe-air-quality-forecasts'\n",
    "ds_time = '2022-01-01/2022-01-01'  # daily sum\n",
    "# ds_time = '2021-01-01/2021-12-31'  # annual sum\n",
    "\n",
    "# Then the name of one air pollutant. Now we just declare it as constant, while in the future it will be input by users. \n",
    "ds_variable = 'particulate_matter_2.5um'"
   ]
  },
  {
   "cell_type": "code",
   "execution_count": 3,
   "id": "17ee38e4-1647-4864-9bee-c8a2387037e1",
   "metadata": {},
   "outputs": [
    {
     "name": "stderr",
     "output_type": "stream",
     "text": [
      "2022-07-12 12:37:40,953 INFO Welcome to the CDS\n",
      "2022-07-12 12:37:40,953 INFO Sending request to https://cds.climate.copernicus.eu/api/v2/resources/cams-europe-air-quality-forecasts\n"
     ]
    },
    {
     "ename": "Exception",
     "evalue": "Resource cams-europe-air-quality-forecasts not found",
     "output_type": "error",
     "traceback": [
      "\u001b[1;31m---------------------------------------------------------------------------\u001b[0m",
      "\u001b[1;31mHTTPError\u001b[0m                                 Traceback (most recent call last)",
      "\u001b[1;32mD:\\ProgramData\\Anaconda3\\envs\\thesis\\lib\\site-packages\\cdsapi\\api.py\u001b[0m in \u001b[0;36m_api\u001b[1;34m(self, url, request, method)\u001b[0m\n\u001b[0;32m    426\u001b[0m         \u001b[1;32mtry\u001b[0m\u001b[1;33m:\u001b[0m\u001b[1;33m\u001b[0m\u001b[1;33m\u001b[0m\u001b[0m\n\u001b[1;32m--> 427\u001b[1;33m             \u001b[0mresult\u001b[0m\u001b[1;33m.\u001b[0m\u001b[0mraise_for_status\u001b[0m\u001b[1;33m(\u001b[0m\u001b[1;33m)\u001b[0m\u001b[1;33m\u001b[0m\u001b[1;33m\u001b[0m\u001b[0m\n\u001b[0m\u001b[0;32m    428\u001b[0m             \u001b[0mreply\u001b[0m \u001b[1;33m=\u001b[0m \u001b[0mresult\u001b[0m\u001b[1;33m.\u001b[0m\u001b[0mjson\u001b[0m\u001b[1;33m(\u001b[0m\u001b[1;33m)\u001b[0m\u001b[1;33m\u001b[0m\u001b[1;33m\u001b[0m\u001b[0m\n",
      "\u001b[1;32mD:\\ProgramData\\Anaconda3\\envs\\thesis\\lib\\site-packages\\requests\\models.py\u001b[0m in \u001b[0;36mraise_for_status\u001b[1;34m(self)\u001b[0m\n\u001b[0;32m    959\u001b[0m         \u001b[1;32mif\u001b[0m \u001b[0mhttp_error_msg\u001b[0m\u001b[1;33m:\u001b[0m\u001b[1;33m\u001b[0m\u001b[1;33m\u001b[0m\u001b[0m\n\u001b[1;32m--> 960\u001b[1;33m             \u001b[1;32mraise\u001b[0m \u001b[0mHTTPError\u001b[0m\u001b[1;33m(\u001b[0m\u001b[0mhttp_error_msg\u001b[0m\u001b[1;33m,\u001b[0m \u001b[0mresponse\u001b[0m\u001b[1;33m=\u001b[0m\u001b[0mself\u001b[0m\u001b[1;33m)\u001b[0m\u001b[1;33m\u001b[0m\u001b[1;33m\u001b[0m\u001b[0m\n\u001b[0m\u001b[0;32m    961\u001b[0m \u001b[1;33m\u001b[0m\u001b[0m\n",
      "\u001b[1;31mHTTPError\u001b[0m: 404 Client Error:  for url: https://cds.climate.copernicus.eu/api/v2/resources/cams-europe-air-quality-forecasts",
      "\nDuring handling of the above exception, another exception occurred:\n",
      "\u001b[1;31mException\u001b[0m                                 Traceback (most recent call last)",
      "\u001b[1;32m~\\AppData\\Local\\Temp\\ipykernel_11084\\1807701313.py\u001b[0m in \u001b[0;36m<module>\u001b[1;34m\u001b[0m\n\u001b[0;32m     20\u001b[0m         \u001b[1;31m# ],\u001b[0m\u001b[1;33m\u001b[0m\u001b[1;33m\u001b[0m\u001b[1;33m\u001b[0m\u001b[0m\n\u001b[0;32m     21\u001b[0m     },\n\u001b[1;32m---> 22\u001b[1;33m     'download.nc')\n\u001b[0m",
      "\u001b[1;32mD:\\ProgramData\\Anaconda3\\envs\\thesis\\lib\\site-packages\\cdsapi\\api.py\u001b[0m in \u001b[0;36mretrieve\u001b[1;34m(self, name, request, target)\u001b[0m\n\u001b[0;32m    346\u001b[0m \u001b[1;33m\u001b[0m\u001b[0m\n\u001b[0;32m    347\u001b[0m     \u001b[1;32mdef\u001b[0m \u001b[0mretrieve\u001b[0m\u001b[1;33m(\u001b[0m\u001b[0mself\u001b[0m\u001b[1;33m,\u001b[0m \u001b[0mname\u001b[0m\u001b[1;33m,\u001b[0m \u001b[0mrequest\u001b[0m\u001b[1;33m,\u001b[0m \u001b[0mtarget\u001b[0m\u001b[1;33m=\u001b[0m\u001b[1;32mNone\u001b[0m\u001b[1;33m)\u001b[0m\u001b[1;33m:\u001b[0m\u001b[1;33m\u001b[0m\u001b[1;33m\u001b[0m\u001b[0m\n\u001b[1;32m--> 348\u001b[1;33m         \u001b[0mresult\u001b[0m \u001b[1;33m=\u001b[0m \u001b[0mself\u001b[0m\u001b[1;33m.\u001b[0m\u001b[0m_api\u001b[0m\u001b[1;33m(\u001b[0m\u001b[1;34m\"%s/resources/%s\"\u001b[0m \u001b[1;33m%\u001b[0m \u001b[1;33m(\u001b[0m\u001b[0mself\u001b[0m\u001b[1;33m.\u001b[0m\u001b[0murl\u001b[0m\u001b[1;33m,\u001b[0m \u001b[0mname\u001b[0m\u001b[1;33m)\u001b[0m\u001b[1;33m,\u001b[0m \u001b[0mrequest\u001b[0m\u001b[1;33m,\u001b[0m \u001b[1;34m\"POST\"\u001b[0m\u001b[1;33m)\u001b[0m\u001b[1;33m\u001b[0m\u001b[1;33m\u001b[0m\u001b[0m\n\u001b[0m\u001b[0;32m    349\u001b[0m         \u001b[1;32mif\u001b[0m \u001b[0mtarget\u001b[0m \u001b[1;32mis\u001b[0m \u001b[1;32mnot\u001b[0m \u001b[1;32mNone\u001b[0m\u001b[1;33m:\u001b[0m\u001b[1;33m\u001b[0m\u001b[1;33m\u001b[0m\u001b[0m\n\u001b[0;32m    350\u001b[0m             \u001b[0mresult\u001b[0m\u001b[1;33m.\u001b[0m\u001b[0mdownload\u001b[0m\u001b[1;33m(\u001b[0m\u001b[0mtarget\u001b[0m\u001b[1;33m)\u001b[0m\u001b[1;33m\u001b[0m\u001b[1;33m\u001b[0m\u001b[0m\n",
      "\u001b[1;32mD:\\ProgramData\\Anaconda3\\envs\\thesis\\lib\\site-packages\\cdsapi\\api.py\u001b[0m in \u001b[0;36m_api\u001b[1;34m(self, url, request, method)\u001b[0m\n\u001b[0;32m    448\u001b[0m                         )\n\u001b[0;32m    449\u001b[0m                     \u001b[0merror\u001b[0m \u001b[1;33m=\u001b[0m \u001b[1;34m\". \"\u001b[0m\u001b[1;33m.\u001b[0m\u001b[0mjoin\u001b[0m\u001b[1;33m(\u001b[0m\u001b[0me\u001b[0m\u001b[1;33m)\u001b[0m\u001b[1;33m\u001b[0m\u001b[1;33m\u001b[0m\u001b[0m\n\u001b[1;32m--> 450\u001b[1;33m                 \u001b[1;32mraise\u001b[0m \u001b[0mException\u001b[0m\u001b[1;33m(\u001b[0m\u001b[0merror\u001b[0m\u001b[1;33m)\u001b[0m\u001b[1;33m\u001b[0m\u001b[1;33m\u001b[0m\u001b[0m\n\u001b[0m\u001b[0;32m    451\u001b[0m             \u001b[1;32melse\u001b[0m\u001b[1;33m:\u001b[0m\u001b[1;33m\u001b[0m\u001b[1;33m\u001b[0m\u001b[0m\n\u001b[0;32m    452\u001b[0m                 \u001b[1;32mraise\u001b[0m\u001b[1;33m\u001b[0m\u001b[1;33m\u001b[0m\u001b[0m\n",
      "\u001b[1;31mException\u001b[0m: Resource cams-europe-air-quality-forecasts not found"
     ]
    }
   ],
   "source": [
    "c = cdsapi.Client()\n",
    "\n",
    "c.retrieve(\n",
    "    ds_name,\n",
    "    {\n",
    "        'model': 'ensemble',\n",
    "        'date': ds_time,\n",
    "        'format': 'netcdf',\n",
    "        'variable': ds_variable,\n",
    "        'level': '0',\n",
    "        'type': 'analysis',\n",
    "        'leadtime_hour': '0',\n",
    "        'time': [\n",
    "            '00:00'\n",
    "        ],\n",
    "        # 'leadtime_hour': '0',\n",
    "        # 'area': [\n",
    "        #     46.57, 7.07, 44.13,\n",
    "        #     11.99,\n",
    "        # ],\n",
    "    },\n",
    "    'download.nc')"
   ]
  },
  {
   "cell_type": "code",
   "execution_count": null,
   "id": "525ae0e6-f1c8-4ada-adf0-1412507c6d9c",
   "metadata": {},
   "outputs": [],
   "source": [
    "# Open raw data. This raw data will be used as part of return. \n",
    "rdata = xr.open_dataset(\"download.nc\")\n",
    "rdata"
   ]
  },
  {
   "cell_type": "code",
   "execution_count": null,
   "id": "2b63bac9-9f40-4e70-89c9-96dd9d0ea409",
   "metadata": {},
   "outputs": [],
   "source": [
    "if ds_variable == 'nitrogen_dioxide':\n",
    "    rdata_values = rdata.no2_conc.values\n",
    "elif ds_variable == 'particulate_matter_10um':\n",
    "    rdata_values = rdata.pm10_conc.values\n",
    "elif ds_variable == 'nitrogen_monoxide':\n",
    "    rdata_values = rdata.no_conc.values\n",
    "elif ds_variable == 'sulphur_dioxide':\n",
    "    rdata_values = rdata.so2_conc.values\n",
    "elif ds_variable == 'ozone':\n",
    "    rdata_values = rdata.o3_conc.values\n",
    "elif ds_variable == 'carbon_monoxide':\n",
    "    rdata_values = rdata.co_conc.values\n",
    "elif ds_variable == 'particulate_matter_2.5um':\n",
    "    rdata_values = rdata.pm2p5_conc.values"
   ]
  },
  {
   "cell_type": "code",
   "execution_count": null,
   "id": "9f2e9969-1335-4739-a6a4-21ab7daeeb8a",
   "metadata": {},
   "outputs": [],
   "source": [
    "if ds_variable == 'ozone':        \n",
    "    h1 = np.mean(rdata_values[0:8,:,:,:], axis=0)\n",
    "    h2 = np.mean(rdata_values[8:16,:,:,:], axis=0)\n",
    "    h3 = np.mean(rdata_values[16:24,:,:,:], axis=0)\n",
    "\n",
    "    max_mean = np.fmax(h1,h2,h3)\n",
    "\n",
    "    mean_data =  max_mean\n",
    "    \n",
    "    # For other pollutants, just simply calculate the mean values in one day. \n",
    "else:\n",
    "    mean_data = np.mean(rdata_values[:,:,:,:], axis=0)"
   ]
  },
  {
   "cell_type": "code",
   "execution_count": null,
   "id": "0f5e60b2-71b7-4668-afa2-c8ebd773ee73",
   "metadata": {},
   "outputs": [],
   "source": [
    "latitude = rdata.latitude.values.astype(\"float64\")\n",
    "longitude = rdata.longitude.values.astype(\"float64\")\n",
    "\n",
    "# for lat in latitude:\n",
    "#     for lon in longitude:\n",
    "#         pos.append([lat,lon])\n",
    "\n",
    "# pos = list(zip(latitude,longitude))"
   ]
  },
  {
   "cell_type": "code",
   "execution_count": null,
   "id": "46859888-db2c-4149-8fd4-78c8935e4efd",
   "metadata": {},
   "outputs": [],
   "source": [
    "mean_data = mean_data[0]\n",
    "# mean_data"
   ]
  },
  {
   "cell_type": "code",
   "execution_count": null,
   "id": "e2ce6e60-fabc-4cd9-8e41-1ef32aaac85c",
   "metadata": {},
   "outputs": [],
   "source": [
    "# Now we should create a custom colorbar to use in the output plot. \n",
    "# Since that we only need to check if the concentration of a pollutant on each coordinate surpasses its AQG or not, we simply use two colors to form our colormap. \n",
    "\n",
    "# Below we define that green color presents the concentration below the AQG while red above the AQG. \n",
    "# The timescale is used in ColorMap_Threshold to fetch the corresponding AQG of input pollutant. It should be either \"Daily\" or \"Annual\". \n",
    "# We should let users to input GoodColor, BadColor, d_timescale these three formal parameters. \n",
    "GoodColor = 'green'\n",
    "BadColor = 'red'\n",
    "d_timescale = 'Daily'\n",
    "\n",
    "# Below we use three functions from DIYColorMap.py to complete our custom colormap. Check DIYColorMap.py for more information. \n",
    "cmap = DIYColorMap.ColorMap_Color(GoodColor=GoodColor,BadColor=BadColor)\n",
    "bounds = DIYColorMap.ColorMap_Threshold(ds_variable=ds_variable,d_timescale=d_timescale)\n",
    "norm = DIYColorMap.ColorMap_Norm(d_bounds=bounds,d_cmap=cmap)\n",
    "threshold = bounds[1]\n",
    "\n",
    "# Below is used to test if the fetched AQG is correct. \n",
    "print(\"The daily threshold of \" + ds_variable + \" is \" + str(threshold) + \" μg/m3\")\n",
    "\n",
    "# Finally, we are about to plot our figure. \n",
    "plt.figure(figsize=(10, 10), dpi=80)\n",
    "ax = plt.axes(projection=ccrs.PlateCarree())\n",
    "\n",
    "img = plt.contourf(longitude, latitude, mean_data, cmap=cmap, norm=norm,\n",
    "             transform=ccrs.PlateCarree())\n",
    "\n",
    "# Below discusses two choices of legends, say, to add a colorbar or a normal legend. We have chosen to use legend instead of colorbar. Can be ignored these comments. \n",
    "\n",
    "# # Colorbar (Not possible to force equally divide the colorbar, for example, 0-70 with the same height as 70-100 in colorbar)\n",
    "# plt.colorbar(img, cmap=cmap, norm=norm, boundaries=bounds, ticks=[0, threshold, 100])\n",
    "\n",
    "# # Eliminate the overlapping between colorbar and output plot\n",
    "# plt.colorbar(img,fraction=0.046, pad=0.06)\n",
    "\n",
    "# # Legends\n",
    "# # From https://matplotlib.org/stable/gallery/text_labels_and_annotations/custom_legends.html\n",
    "\n",
    "# Option 1: Below use marks (Not good result hence abandoned)\n",
    "\n",
    "# legend_elements = [\n",
    "#                     Line2D([0], [0], marker='o', color='w', label='Below Threshold', markerfacecolor=GoodColor, markersize=5),\n",
    "#                     Line2D([0], [0], marker='o', color='w', label='Above Threshold', markerfacecolor=BadColor, markersize=5)\n",
    "#                           ]\n",
    "\n",
    "# Option 2: Use line and set linewidth and linelength\n",
    "\n",
    "legend_elements = [ Line2D([0], [0], color='w', label='Not available', linewidth=5),\n",
    "                    Line2D([0], [0], color=GoodColor, label='Below Threshold', linewidth=5),\n",
    "                    Line2D([0], [0], color=BadColor, label='Above Threshold', linewidth=5)\n",
    "                          ]\n",
    "\n",
    "# Below plots the legend and adjust the line length inside legend. \n",
    "ax.legend(handles=legend_elements,handlelength=0.8)\n",
    "\n",
    "# Below is some additional configures of plot. \n",
    "ax.set_extent([70,-25,30,80])\n",
    "ax.coastlines()\n",
    "ax.add_feature(cfeature.BORDERS)\n",
    "\n",
    "# # Below use colored world basemap, but the result colormap will completely overwrite the basemap. Hence abandoned. \n",
    "# ax.stock_img()\n",
    "\n",
    "# Add grids to the plot. \n",
    "ax.gridlines(draw_labels=True)\n",
    "\n",
    "plt.show()"
   ]
  },
  {
   "cell_type": "code",
   "execution_count": null,
   "id": "6acf8338-67f8-40f5-8564-2d0019182ea3",
   "metadata": {},
   "outputs": [],
   "source": [
    "# tmpfile = BytesIO()\n",
    "# fig.savefig(tmpfile, format='png')\n",
    "\n",
    "# encoded = base64.b64encode(tmpfile.getvalue()).decode('utf-8')\n",
    "\n",
    "# html = 'Some html head' + '<img src=\\'data:image/png;base64,{}\\'>'.format(encoded) + 'Some more html'\n",
    "\n",
    "# with open('test.html','w') as f:\n",
    "#     f.write(html)"
   ]
  },
  {
   "cell_type": "code",
   "execution_count": null,
   "id": "8d974c9c-a91d-4a05-92a3-a7eadf9e4d71",
   "metadata": {},
   "outputs": [],
   "source": [
    "#plt.savefig('C:\\\\Users\\\\Administrator\\\\Desktop\\\\my_plot.png')"
   ]
  },
  {
   "cell_type": "code",
   "execution_count": null,
   "id": "1a064502-383f-41d0-8224-000c5aea145b",
   "metadata": {},
   "outputs": [],
   "source": []
  },
  {
   "cell_type": "code",
   "execution_count": null,
   "id": "ad127c96-8200-4c2a-899b-d37c4eb65c56",
   "metadata": {},
   "outputs": [],
   "source": []
  },
  {
   "cell_type": "code",
   "execution_count": null,
   "id": "14cb22e8-1c0e-4cbd-9846-3d34bc1f3b92",
   "metadata": {},
   "outputs": [],
   "source": []
  },
  {
   "cell_type": "code",
   "execution_count": 14,
   "id": "7f859a0c-62ae-4c73-aa47-beb5ecf51c70",
   "metadata": {},
   "outputs": [
    {
     "name": "stderr",
     "output_type": "stream",
     "text": [
      "2022-07-10 10:49:10,527 INFO Welcome to the CDS\n",
      "2022-07-10 10:49:10,529 INFO Sending request to https://cds.climate.copernicus.eu/api/v2/resources/cams-europe-air-quality-forecasts\n"
     ]
    },
    {
     "ename": "Exception",
     "evalue": "Resource cams-europe-air-quality-forecasts not found",
     "output_type": "error",
     "traceback": [
      "\u001b[1;31m---------------------------------------------------------------------------\u001b[0m",
      "\u001b[1;31mHTTPError\u001b[0m                                 Traceback (most recent call last)",
      "\u001b[1;32mD:\\ProgramData\\Anaconda3\\envs\\thesis\\lib\\site-packages\\cdsapi\\api.py\u001b[0m in \u001b[0;36m_api\u001b[1;34m(self, url, request, method)\u001b[0m\n\u001b[0;32m    426\u001b[0m         \u001b[1;32mtry\u001b[0m\u001b[1;33m:\u001b[0m\u001b[1;33m\u001b[0m\u001b[1;33m\u001b[0m\u001b[0m\n\u001b[1;32m--> 427\u001b[1;33m             \u001b[0mresult\u001b[0m\u001b[1;33m.\u001b[0m\u001b[0mraise_for_status\u001b[0m\u001b[1;33m(\u001b[0m\u001b[1;33m)\u001b[0m\u001b[1;33m\u001b[0m\u001b[1;33m\u001b[0m\u001b[0m\n\u001b[0m\u001b[0;32m    428\u001b[0m             \u001b[0mreply\u001b[0m \u001b[1;33m=\u001b[0m \u001b[0mresult\u001b[0m\u001b[1;33m.\u001b[0m\u001b[0mjson\u001b[0m\u001b[1;33m(\u001b[0m\u001b[1;33m)\u001b[0m\u001b[1;33m\u001b[0m\u001b[1;33m\u001b[0m\u001b[0m\n",
      "\u001b[1;32mD:\\ProgramData\\Anaconda3\\envs\\thesis\\lib\\site-packages\\requests\\models.py\u001b[0m in \u001b[0;36mraise_for_status\u001b[1;34m(self)\u001b[0m\n\u001b[0;32m    959\u001b[0m         \u001b[1;32mif\u001b[0m \u001b[0mhttp_error_msg\u001b[0m\u001b[1;33m:\u001b[0m\u001b[1;33m\u001b[0m\u001b[1;33m\u001b[0m\u001b[0m\n\u001b[1;32m--> 960\u001b[1;33m             \u001b[1;32mraise\u001b[0m \u001b[0mHTTPError\u001b[0m\u001b[1;33m(\u001b[0m\u001b[0mhttp_error_msg\u001b[0m\u001b[1;33m,\u001b[0m \u001b[0mresponse\u001b[0m\u001b[1;33m=\u001b[0m\u001b[0mself\u001b[0m\u001b[1;33m)\u001b[0m\u001b[1;33m\u001b[0m\u001b[1;33m\u001b[0m\u001b[0m\n\u001b[0m\u001b[0;32m    961\u001b[0m \u001b[1;33m\u001b[0m\u001b[0m\n",
      "\u001b[1;31mHTTPError\u001b[0m: 404 Client Error:  for url: https://cds.climate.copernicus.eu/api/v2/resources/cams-europe-air-quality-forecasts",
      "\nDuring handling of the above exception, another exception occurred:\n",
      "\u001b[1;31mException\u001b[0m                                 Traceback (most recent call last)",
      "\u001b[1;32m~\\AppData\\Local\\Temp\\ipykernel_7252\\3283333.py\u001b[0m in \u001b[0;36m<module>\u001b[1;34m\u001b[0m\n\u001b[0;32m     30\u001b[0m         \u001b[1;34m'leadtime_hour'\u001b[0m\u001b[1;33m:\u001b[0m \u001b[1;34m'0'\u001b[0m\u001b[1;33m,\u001b[0m\u001b[1;33m\u001b[0m\u001b[1;33m\u001b[0m\u001b[0m\n\u001b[0;32m     31\u001b[0m     },\n\u001b[1;32m---> 32\u001b[1;33m     'download.nc')\n\u001b[0m",
      "\u001b[1;32mD:\\ProgramData\\Anaconda3\\envs\\thesis\\lib\\site-packages\\cdsapi\\api.py\u001b[0m in \u001b[0;36mretrieve\u001b[1;34m(self, name, request, target)\u001b[0m\n\u001b[0;32m    346\u001b[0m \u001b[1;33m\u001b[0m\u001b[0m\n\u001b[0;32m    347\u001b[0m     \u001b[1;32mdef\u001b[0m \u001b[0mretrieve\u001b[0m\u001b[1;33m(\u001b[0m\u001b[0mself\u001b[0m\u001b[1;33m,\u001b[0m \u001b[0mname\u001b[0m\u001b[1;33m,\u001b[0m \u001b[0mrequest\u001b[0m\u001b[1;33m,\u001b[0m \u001b[0mtarget\u001b[0m\u001b[1;33m=\u001b[0m\u001b[1;32mNone\u001b[0m\u001b[1;33m)\u001b[0m\u001b[1;33m:\u001b[0m\u001b[1;33m\u001b[0m\u001b[1;33m\u001b[0m\u001b[0m\n\u001b[1;32m--> 348\u001b[1;33m         \u001b[0mresult\u001b[0m \u001b[1;33m=\u001b[0m \u001b[0mself\u001b[0m\u001b[1;33m.\u001b[0m\u001b[0m_api\u001b[0m\u001b[1;33m(\u001b[0m\u001b[1;34m\"%s/resources/%s\"\u001b[0m \u001b[1;33m%\u001b[0m \u001b[1;33m(\u001b[0m\u001b[0mself\u001b[0m\u001b[1;33m.\u001b[0m\u001b[0murl\u001b[0m\u001b[1;33m,\u001b[0m \u001b[0mname\u001b[0m\u001b[1;33m)\u001b[0m\u001b[1;33m,\u001b[0m \u001b[0mrequest\u001b[0m\u001b[1;33m,\u001b[0m \u001b[1;34m\"POST\"\u001b[0m\u001b[1;33m)\u001b[0m\u001b[1;33m\u001b[0m\u001b[1;33m\u001b[0m\u001b[0m\n\u001b[0m\u001b[0;32m    349\u001b[0m         \u001b[1;32mif\u001b[0m \u001b[0mtarget\u001b[0m \u001b[1;32mis\u001b[0m \u001b[1;32mnot\u001b[0m \u001b[1;32mNone\u001b[0m\u001b[1;33m:\u001b[0m\u001b[1;33m\u001b[0m\u001b[1;33m\u001b[0m\u001b[0m\n\u001b[0;32m    350\u001b[0m             \u001b[0mresult\u001b[0m\u001b[1;33m.\u001b[0m\u001b[0mdownload\u001b[0m\u001b[1;33m(\u001b[0m\u001b[0mtarget\u001b[0m\u001b[1;33m)\u001b[0m\u001b[1;33m\u001b[0m\u001b[1;33m\u001b[0m\u001b[0m\n",
      "\u001b[1;32mD:\\ProgramData\\Anaconda3\\envs\\thesis\\lib\\site-packages\\cdsapi\\api.py\u001b[0m in \u001b[0;36m_api\u001b[1;34m(self, url, request, method)\u001b[0m\n\u001b[0;32m    448\u001b[0m                         )\n\u001b[0;32m    449\u001b[0m                     \u001b[0merror\u001b[0m \u001b[1;33m=\u001b[0m \u001b[1;34m\". \"\u001b[0m\u001b[1;33m.\u001b[0m\u001b[0mjoin\u001b[0m\u001b[1;33m(\u001b[0m\u001b[0me\u001b[0m\u001b[1;33m)\u001b[0m\u001b[1;33m\u001b[0m\u001b[1;33m\u001b[0m\u001b[0m\n\u001b[1;32m--> 450\u001b[1;33m                 \u001b[1;32mraise\u001b[0m \u001b[0mException\u001b[0m\u001b[1;33m(\u001b[0m\u001b[0merror\u001b[0m\u001b[1;33m)\u001b[0m\u001b[1;33m\u001b[0m\u001b[1;33m\u001b[0m\u001b[0m\n\u001b[0m\u001b[0;32m    451\u001b[0m             \u001b[1;32melse\u001b[0m\u001b[1;33m:\u001b[0m\u001b[1;33m\u001b[0m\u001b[1;33m\u001b[0m\u001b[0m\n\u001b[0;32m    452\u001b[0m                 \u001b[1;32mraise\u001b[0m\u001b[1;33m\u001b[0m\u001b[1;33m\u001b[0m\u001b[0m\n",
      "\u001b[1;31mException\u001b[0m: Resource cams-europe-air-quality-forecasts not found"
     ]
    }
   ],
   "source": [
    "import cdsapi\n",
    "\n",
    "c = cdsapi.Client()\n",
    "\n",
    "c.retrieve(\n",
    "    'cams-europe-air-quality-forecasts',\n",
    "    {\n",
    "        'model': 'ensemble',\n",
    "        'date': '2022-07-08/2022-07-10',\n",
    "        'format': 'netcdf',\n",
    "        'variable': [\n",
    "            'ammonia', 'carbon_monoxide', 'dust',\n",
    "            'nitrogen_dioxide', 'nitrogen_monoxide', 'non_methane_vocs',\n",
    "            'ozone', 'particulate_matter_10um', 'particulate_matter_2.5um',\n",
    "            'peroxyacyl_nitrates', 'pm10_wildfires', 'residential_elementary_carbon',\n",
    "            'secondary_inorganic_aerosol', 'sulphur_dioxide', 'total_elementary_carbon',\n",
    "        ],\n",
    "        'level': '0',\n",
    "        'type': 'analysis',\n",
    "        'time': [\n",
    "            '00:00', '01:00', '02:00',\n",
    "            '03:00', '04:00', '05:00',\n",
    "            '06:00', '07:00', '08:00',\n",
    "            '09:00', '10:00', '11:00',\n",
    "            '12:00', '13:00', '14:00',\n",
    "            '15:00', '16:00', '17:00',\n",
    "            '18:00', '19:00', '20:00',\n",
    "            '21:00', '22:00', '23:00',\n",
    "        ],\n",
    "        'leadtime_hour': '0',\n",
    "    },\n",
    "    'download.nc')"
   ]
  },
  {
   "cell_type": "code",
   "execution_count": null,
   "id": "c01c2449-7e47-4d6d-b0bd-c4dca0a268dc",
   "metadata": {},
   "outputs": [],
   "source": []
  },
  {
   "cell_type": "code",
   "execution_count": null,
   "id": "014d68d8-2c91-431a-8a06-b4455fba29bf",
   "metadata": {},
   "outputs": [],
   "source": []
  },
  {
   "cell_type": "code",
   "execution_count": null,
   "id": "7a6d22cd-4027-40e1-bd97-52cc099d11ac",
   "metadata": {},
   "outputs": [],
   "source": []
  },
  {
   "cell_type": "code",
   "execution_count": null,
   "id": "d5c42afc-c287-455a-923f-dee1f71f0986",
   "metadata": {},
   "outputs": [],
   "source": []
  },
  {
   "cell_type": "code",
   "execution_count": null,
   "id": "60c7d54b-e7fc-454f-b3fc-bc10600d8c51",
   "metadata": {},
   "outputs": [],
   "source": []
  }
 ],
 "metadata": {
  "kernelspec": {
   "display_name": "Python 3 (ipykernel)",
   "language": "python",
   "name": "python3"
  },
  "language_info": {
   "codemirror_mode": {
    "name": "ipython",
    "version": 3
   },
   "file_extension": ".py",
   "mimetype": "text/x-python",
   "name": "python",
   "nbconvert_exporter": "python",
   "pygments_lexer": "ipython3",
   "version": "3.7.12"
  }
 },
 "nbformat": 4,
 "nbformat_minor": 5
}
