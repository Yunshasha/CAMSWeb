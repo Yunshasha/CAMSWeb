{
 "cells": [
  {
   "cell_type": "code",
   "execution_count": null,
   "id": "48da5e14-fae1-4c56-9fdc-e43c9f82701e",
   "metadata": {},
   "outputs": [],
   "source": [
    "from demo1.myFunctions import getMean, DIYColorMap\n",
    "# from myFunctions import getTest \n",
    "# from matplotlib import colors\n",
    "import numpy as np\n",
    "import pandas as pd\n",
    "import xarray as xr\n",
    "import matplotlib.pyplot as plt\n",
    "import cartopy.crs as ccrs\n",
    "import cartopy.feature as cfeature\n",
    "from matplotlib.lines import Line2D\n",
    "\n",
    "import matplotlib.pyplot as plt\n",
    "import base64\n",
    "from io import BytesIO\n",
    "import cdsapi"
   ]
  },
  {
   "cell_type": "code",
   "execution_count": null,
   "id": "30d15b8d-f9da-465d-bd79-315888a9ed66",
   "metadata": {},
   "outputs": [],
   "source": [
    "# c = cdsapi.Client()\n",
    "\n",
    "# c.retrieve(\n",
    "#     'cams-europe-air-quality-forecasts',\n",
    "#     {\n",
    "#         'variable': 'nitrogen_monoxide',\n",
    "#         'model': 'ensemble',\n",
    "#         'level': '0',\n",
    "#         'date': '2020-01-01/2020-12-31',\n",
    "#         'type': 'analysis',\n",
    "#         'time': [\n",
    "#             '00:00', '01:00', '02:00',\n",
    "#             '03:00', '04:00', '05:00',\n",
    "#             '06:00', '07:00', '08:00',\n",
    "#             '09:00', '10:00', '11:00',\n",
    "#             '12:00', '13:00', '14:00',\n",
    "#             '15:00', '16:00', '17:00',\n",
    "#             '18:00', '19:00', '20:00',\n",
    "#             '21:00', '22:00', '23:00',\n",
    "#         ],\n",
    "#         'leadtime_hour': '0',\n",
    "#         'area': [\n",
    "#             45.53, 9.05, 45.35,\n",
    "#             9.4,\n",
    "#         ],\n",
    "#         'format': 'netcdf',\n",
    "#     },\n",
    "#     'download.nc')"
   ]
  },
  {
   "cell_type": "code",
   "execution_count": null,
   "id": "38fb5c77-b0b9-4a90-b0bb-7ea9813b2e84",
   "metadata": {},
   "outputs": [],
   "source": [
    "# c = cdsapi.Client()\n",
    "\n",
    "# c.retrieve(\n",
    "#     'cams-europe-air-quality-forecasts',\n",
    "#     {\n",
    "#         'variable': 'nitrogen_monoxide',\n",
    "#         'model': 'ensemble',\n",
    "#         'level': '0',\n",
    "#         'date': '2020-01-01/2020-01-31',\n",
    "#         'type': 'analysis',\n",
    "#         'time': [\n",
    "#             '00:00', '01:00', '02:00',\n",
    "#             '03:00', '04:00', '05:00',\n",
    "#             '06:00', '07:00', '08:00',\n",
    "#             '09:00', '10:00', '11:00',\n",
    "#             '12:00', '13:00', '14:00',\n",
    "#             '15:00', '16:00', '17:00',\n",
    "#             '18:00', '19:00', '20:00',\n",
    "#             '21:00', '22:00', '23:00',\n",
    "#         ],\n",
    "#         'leadtime_hour': '0',\n",
    "#         'area': [\n",
    "#             45.53, 9.05, 45.35,\n",
    "#             9.4,\n",
    "#         ],\n",
    "#         'format': 'netcdf',\n",
    "#     },\n",
    "#     'download.nc')"
   ]
  },
  {
   "cell_type": "code",
   "execution_count": null,
   "id": "b30b02f2-fb32-4560-81f5-e5631d23024d",
   "metadata": {},
   "outputs": [],
   "source": [
    "# Open raw data. This raw data will be used as part of return. \n",
    "# rdata = xr.open_mfdataset('F:\\\\NCFILE\\\\2020_ozone_04_09.nc' + '*.nc',combine='nested', concat_dim='time')\n",
    "# rdata = xr.open_dataset('./d3c88ea5ec594163ad39b1f20e674d65')\n",
    "rdata = xr.open_dataset('F:\\\\NCFILE\\\\2021_ozone_04_09.nc')\n",
    "rdata"
   ]
  },
  {
   "cell_type": "code",
   "execution_count": null,
   "id": "810d0036-2a6f-4446-8b99-5139fe540b60",
   "metadata": {},
   "outputs": [],
   "source": [
    "rdata_values = rdata.o3_conc.values\n",
    "rdata_values.shape"
   ]
  },
  {
   "cell_type": "code",
   "execution_count": null,
   "id": "1d29d317-a640-48c2-86a5-ec044dec976a",
   "metadata": {},
   "outputs": [],
   "source": [
    "len(rdata_values)"
   ]
  },
  {
   "cell_type": "code",
   "execution_count": null,
   "id": "67c1d322-37c8-4dcc-a584-c2a51eedffd5",
   "metadata": {},
   "outputs": [],
   "source": [
    "H_all_days = []\n",
    "for dd in range(int(len(rdata_values)/24)):\n",
    "    start_dd = 24 * dd\n",
    "    end_dd = 24 + 24 * (dd+1)\n",
    "    rdata_values_2_days = rdata_values[start_dd:end_dd]\n",
    "    H = []\n",
    "    for k in range(17):\n",
    "        start_k = 7 + k\n",
    "        end_k = 15 + k\n",
    "        h = np.mean(rdata_values_2_days[start_k:end_k], axis=0)\n",
    "        H.append(h)\n",
    "\n",
    "    H_all_days.append(np.mean(np.mean(np.array(H), axis=0)))\n",
    "\n",
    "mean_data = np.mean(np.array(H_all_days))"
   ]
  },
  {
   "cell_type": "code",
   "execution_count": null,
   "id": "945c6092-36b3-4c08-b4b3-419911a7152e",
   "metadata": {},
   "outputs": [],
   "source": [
    "len(H_all_days)"
   ]
  },
  {
   "cell_type": "code",
   "execution_count": null,
   "id": "dea065a9-7e62-4fe2-8802-8d704ec273ad",
   "metadata": {},
   "outputs": [],
   "source": [
    "h.shape"
   ]
  },
  {
   "cell_type": "code",
   "execution_count": null,
   "id": "37f03f9d-7633-42ed-968c-0cab814ddce9",
   "metadata": {},
   "outputs": [],
   "source": [
    "rdata_values_2_days[start_k:end_k]"
   ]
  },
  {
   "cell_type": "code",
   "execution_count": null,
   "id": "e65a4d80-bde1-4f30-b2cf-f0f80967b0a0",
   "metadata": {},
   "outputs": [],
   "source": []
  }
 ],
 "metadata": {
  "kernelspec": {
   "display_name": "Python 3 (ipykernel)",
   "language": "python",
   "name": "python3"
  },
  "language_info": {
   "codemirror_mode": {
    "name": "ipython",
    "version": 3
   },
   "file_extension": ".py",
   "mimetype": "text/x-python",
   "name": "python",
   "nbconvert_exporter": "python",
   "pygments_lexer": "ipython3",
   "version": "3.7.12"
  }
 },
 "nbformat": 4,
 "nbformat_minor": 5
}
