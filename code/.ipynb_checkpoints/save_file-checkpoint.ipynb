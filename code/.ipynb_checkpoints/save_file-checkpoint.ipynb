{
 "cells": [
  {
   "cell_type": "code",
   "execution_count": 2,
   "id": "e1d72fcd-0132-4734-b680-304c0bc81ee9",
   "metadata": {},
   "outputs": [],
   "source": [
    "import cdsapi\n",
    "import numpy as np\n",
    "import pandas as pd\n",
    "import xarray as xr\n",
    "import rioxarray\n",
    "from shapely.geometry import mapping\n",
    "import uuid\n",
    "import json"
   ]
  },
  {
   "cell_type": "code",
   "execution_count": null,
   "id": "cd5a57f8-b77a-4c89-b1f7-43ed80cf25c7",
   "metadata": {},
   "outputs": [],
   "source": [
    "requestYear = '2020'\n",
    "pollutant_list = ['carbon_monoxide', 'sulphur_dioxide', 'nitrogen_dioxide','ozone', 'particulate_matter_2.5um', 'particulate_matter_10um']\n"
   ]
  },
  {
   "cell_type": "code",
   "execution_count": null,
   "id": "6f60711d-c401-4570-b4c4-ce8e6e560e0a",
   "metadata": {},
   "outputs": [],
   "source": [
    "sdate = requestYear + '-01-01/' + requestYear +'-12-31'\n",
    "pollutant = pollutant_list[2]\n",
    "\n",
    "ds_name = 'cams-europe-air-quality-forecasts'\n",
    "ds_time = sdate\n",
    "ds_variable = pollutant    #'carbon_monoxide'  "
   ]
  },
  {
   "cell_type": "code",
   "execution_count": null,
   "id": "fa55b8fe-e33d-43f3-8efe-cc83d186256d",
   "metadata": {},
   "outputs": [],
   "source": [
    "print(sdate)\n",
    "print(pollutant)"
   ]
  },
  {
   "cell_type": "code",
   "execution_count": null,
   "id": "0910fb30-337d-4cf1-a420-9d24a4613df2",
   "metadata": {},
   "outputs": [],
   "source": [
    "# Download raw data. Currently only support daily timescale.\n",
    "unique_filename = str(uuid.uuid4().hex)    \n",
    "fName = unique_filename\n",
    "saveName = unique_filename+requestYear+ds_variable+'.nc'\n",
    "\n",
    "print(saveName)"
   ]
  },
  {
   "cell_type": "code",
   "execution_count": null,
   "id": "fb04dae6-ef33-46ca-9206-1f46d12fe104",
   "metadata": {},
   "outputs": [],
   "source": [
    "c = cdsapi.Client()    \n",
    "c.retrieve(\n",
    "    ds_name,\n",
    "    {\n",
    "        'model': 'ensemble',\n",
    "        'date': ds_time,\n",
    "        'format': 'netcdf',\n",
    "        'variable': ds_variable,\n",
    "        'level': '0',\n",
    "        'type': 'analysis',\n",
    "        'leadtime_hour': '0',\n",
    "        'time': [\n",
    "            '00:00', '01:00', '02:00',\n",
    "            '03:00', '04:00', '05:00',\n",
    "            '06:00', '07:00', '08:00',\n",
    "            '09:00', '10:00', '11:00',\n",
    "            '12:00', '13:00', '14:00',\n",
    "            '15:00', '16:00', '17:00',\n",
    "            '18:00', '19:00', '20:00',\n",
    "            '21:00', '22:00', '23:00',\n",
    "        ],\n",
    "    },\n",
    "    saveName)"
   ]
  },
  {
   "cell_type": "code",
   "execution_count": null,
   "id": "badef7a7-8830-4f19-acb8-d6ea4c5f5926",
   "metadata": {},
   "outputs": [],
   "source": [
    "# fName = './data/YearData/e6f1c8c196314c06bf10b506dc9036122020nitrogen_dioxide.nc'\n",
    "# ds_variable = 'nitrogen_dioxide'\n",
    "\n",
    "# Open raw data. This raw data will be used as part of return. \n",
    "rdata = xr.open_dataset(fName)\n",
    "rdata"
   ]
  },
  {
   "cell_type": "code",
   "execution_count": null,
   "id": "57ab9a67-88d4-46af-9bad-ffa5f223cfc6",
   "metadata": {},
   "outputs": [],
   "source": [
    "# Below is note\n",
    "# nitrogen_dioxide --> no2_conc   \n",
    "# particulate_matter_10um  -->  pm10_conc \n",
    "# nitrogen_monoxide --> no_conc\n",
    "# sulphur_dioxide --> so2_conc\n",
    "# ozone --> o3_conc\n",
    "# carbon_monoxide --> co_conc\n",
    "# particulate_matter_2.5um --> pm2p5_conc\n",
    "\n",
    "# Now we should retrieve the values of concentration of the input pollutant from raw data. \n",
    "\n",
    "if ds_variable == 'nitrogen_dioxide':\n",
    "    rdata_values = rdata.no2_conc.values\n",
    "elif ds_variable == 'particulate_matter_10um':\n",
    "    rdata_values = rdata.pm10_conc.values\n",
    "elif ds_variable == 'nitrogen_monoxide':\n",
    "    rdata_values = rdata.no_conc.values\n",
    "elif ds_variable == 'sulphur_dioxide':\n",
    "    rdata_values = rdata.so2_conc.values\n",
    "elif ds_variable == 'ozone':\n",
    "    rdata_values = rdata.o3_conc.values\n",
    "elif ds_variable == 'carbon_monoxide':\n",
    "    rdata_values = rdata.co_conc.values\n",
    "elif ds_variable == 'particulate_matter_2.5um':\n",
    "    rdata_values = rdata.pm2p5_conc.values"
   ]
  },
  {
   "cell_type": "code",
   "execution_count": null,
   "id": "737e2e74-857c-41f2-ac0b-7db0500587bd",
   "metadata": {},
   "outputs": [],
   "source": [
    "mean_data = np.mean(rdata_values[:, :, :, :], axis=0)\n",
    "rdata_values.shape"
   ]
  },
  {
   "cell_type": "code",
   "execution_count": null,
   "id": "e63fb4fe-cbc7-4e9f-aa25-081b3684a21c",
   "metadata": {},
   "outputs": [],
   "source": [
    "rdata.no2_conc"
   ]
  },
  {
   "cell_type": "code",
   "execution_count": null,
   "id": "7d4b6777-819e-48af-97de-f64b05fa34f7",
   "metadata": {},
   "outputs": [],
   "source": [
    "rdata_values.shape"
   ]
  },
  {
   "cell_type": "code",
   "execution_count": null,
   "id": "a0a265ca-7d37-4640-a6d8-8d9b3448873a",
   "metadata": {},
   "outputs": [],
   "source": [
    "# 原始数据array求mean\n",
    "# Below we calculate the mean values. For ozone, we don't really understand how to do with \"8-hour maximum daily\", so here we just seperate 24 hours into 3 parts, calculate the mean values of each part and select the maximum values among them and create a new dataarray contains these maximum mean values of ozone. We are not sure about this yet.\n",
    "if ds_variable == 'ozone':\n",
    "    h1 = np.mean(rdata_values[0:8, :, :, :], axis=0)\n",
    "    h2 = np.mean(rdata_values[8:16, :, :, :], axis=0)\n",
    "    h3 = np.mean(rdata_values[16:24, :, :, :], axis=0)\n",
    "\n",
    "    max_mean = np.fmax(h1, h2, h3)\n",
    "\n",
    "    mean_data = max_mean\n",
    "\n",
    "# For other pollutants, just simply calculate the mean values in one day.\n",
    "else:\n",
    "\n",
    "    mean_data = np.mean(rdata_values[:, :, :, :], axis=0)\n",
    "    \n",
    "mean_data"
   ]
  },
  {
   "cell_type": "code",
   "execution_count": null,
   "id": "7e4f710f-a298-4d4c-b8ab-c89af61b989b",
   "metadata": {},
   "outputs": [],
   "source": [
    "mean_data.shape"
   ]
  },
  {
   "cell_type": "code",
   "execution_count": null,
   "id": "57de13aa-5793-4382-8f02-be8c210406df",
   "metadata": {},
   "outputs": [],
   "source": [
    "# 初始化 array 大小参数: 从原始数据array采集\n",
    "# time =  np.zeros((1))  #单位为 天 或者 年: 大小为 1\n",
    "level = len(rdata.level)  # 默认level\n",
    "latitude = len(rdata.latitude)\n",
    "longitude = len(rdata.longitude)\n",
    "\n",
    "# 初始化 rdata_values_sum array\n",
    "# rdata_values_sum = np.zeros((1,1,420,700))\n",
    "rdata_values_mean = mean_data[np.newaxis, :]\n",
    "rdata_values_mean"
   ]
  },
  {
   "cell_type": "code",
   "execution_count": null,
   "id": "01d2c35e-6a76-4a04-81a9-7e77d39083c0",
   "metadata": {},
   "outputs": [],
   "source": [
    "rdata_values_mean.shape"
   ]
  },
  {
   "cell_type": "code",
   "execution_count": null,
   "id": "d0f0ac07-6d73-423e-b544-de09c862a1a4",
   "metadata": {},
   "outputs": [],
   "source": [
    "# 从原始 array 复制可选 维度 和 坐标\n",
    "time = np.zeros((1))\n",
    "level = rdata.level\n",
    "latitude = rdata.latitude\n",
    "longitude = rdata.longitude"
   ]
  },
  {
   "cell_type": "code",
   "execution_count": null,
   "id": "cb220afc-265a-47f9-a21c-a5a47b4d4f09",
   "metadata": {},
   "outputs": [],
   "source": [
    "# 创建一个 DataArray 并提供 维度 和 坐标 信息\n",
    "foo = xr.Dataset(\n",
    "    {\n",
    "        \"no2_conc\": (\n",
    "            ('time', 'level', 'latitude','longitude'),\n",
    "            rdata_values_mean,\n",
    "        )        \n",
    "    },\n",
    "    coords =dict(\n",
    "        longitude=longitude,\n",
    "        latitude=latitude,\n",
    "        level=level,\n",
    "        time=time,),\n",
    ")\n",
    "foo"
   ]
  },
  {
   "cell_type": "code",
   "execution_count": null,
   "id": "c519869a-11f8-41c6-90be-4d4997eaf9d7",
   "metadata": {},
   "outputs": [],
   "source": [
    "# 从原始 array 复制 属性表\n",
    "foo.attrs = rdata.attrs\n",
    "foo"
   ]
  },
  {
   "cell_type": "code",
   "execution_count": null,
   "id": "8433e71a-0812-4e66-b6c7-9742c06c9b4e",
   "metadata": {},
   "outputs": [],
   "source": [
    "foo.to_netcdf(\"saved_on_disk.nc\", engine=\"h5netcdf\", invalid_netcdf=True))"
   ]
  },
  {
   "cell_type": "code",
   "execution_count": null,
   "id": "ff8f66bb-ef71-45a6-89de-fa2b7690aa43",
   "metadata": {},
   "outputs": [],
   "source": []
  },
  {
   "cell_type": "markdown",
   "id": "9dac3c21-c611-4660-b500-1d0d49a4c0e5",
   "metadata": {},
   "source": [
    "测试 mean 年的数据怎么clip"
   ]
  },
  {
   "cell_type": "code",
   "execution_count": 11,
   "id": "1ffddf25-f228-4f76-abc5-64a2d6453803",
   "metadata": {},
   "outputs": [
    {
     "ename": "AttributeError",
     "evalue": "'Dataset' object has no attribute 'ds_variable'",
     "output_type": "error",
     "traceback": [
      "\u001b[1;31m---------------------------------------------------------------------------\u001b[0m",
      "\u001b[1;31mAttributeError\u001b[0m                            Traceback (most recent call last)",
      "\u001b[1;32m~\\AppData\\Local\\Temp\\ipykernel_1248\\2748688962.py\u001b[0m in \u001b[0;36m<module>\u001b[1;34m\u001b[0m\n\u001b[0;32m      3\u001b[0m \u001b[1;31m# Open raw data. This raw data will be used as part of return.\u001b[0m\u001b[1;33m\u001b[0m\u001b[1;33m\u001b[0m\u001b[1;33m\u001b[0m\u001b[0m\n\u001b[0;32m      4\u001b[0m \u001b[0mrdata\u001b[0m \u001b[1;33m=\u001b[0m \u001b[0mxr\u001b[0m\u001b[1;33m.\u001b[0m\u001b[0mopen_dataset\u001b[0m\u001b[1;33m(\u001b[0m\u001b[0mfName\u001b[0m\u001b[1;33m)\u001b[0m\u001b[1;33m\u001b[0m\u001b[1;33m\u001b[0m\u001b[0m\n\u001b[1;32m----> 5\u001b[1;33m \u001b[0mrdata\u001b[0m\u001b[1;33m.\u001b[0m\u001b[0mmin\u001b[0m\u001b[1;33m(\u001b[0m\u001b[1;33m)\u001b[0m\u001b[1;33m.\u001b[0m\u001b[0mds_variable\u001b[0m\u001b[1;33m.\u001b[0m\u001b[0mvalues\u001b[0m\u001b[1;33m\u001b[0m\u001b[1;33m\u001b[0m\u001b[0m\n\u001b[0m",
      "\u001b[1;32mD:\\ProgramData\\Anaconda3\\envs\\thesis\\lib\\site-packages\\xarray\\core\\common.py\u001b[0m in \u001b[0;36m__getattr__\u001b[1;34m(self, name)\u001b[0m\n\u001b[0;32m    245\u001b[0m                     \u001b[1;32mreturn\u001b[0m \u001b[0msource\u001b[0m\u001b[1;33m[\u001b[0m\u001b[0mname\u001b[0m\u001b[1;33m]\u001b[0m\u001b[1;33m\u001b[0m\u001b[1;33m\u001b[0m\u001b[0m\n\u001b[0;32m    246\u001b[0m         raise AttributeError(\n\u001b[1;32m--> 247\u001b[1;33m             \u001b[1;34m\"{!r} object has no attribute {!r}\"\u001b[0m\u001b[1;33m.\u001b[0m\u001b[0mformat\u001b[0m\u001b[1;33m(\u001b[0m\u001b[0mtype\u001b[0m\u001b[1;33m(\u001b[0m\u001b[0mself\u001b[0m\u001b[1;33m)\u001b[0m\u001b[1;33m.\u001b[0m\u001b[0m__name__\u001b[0m\u001b[1;33m,\u001b[0m \u001b[0mname\u001b[0m\u001b[1;33m)\u001b[0m\u001b[1;33m\u001b[0m\u001b[1;33m\u001b[0m\u001b[0m\n\u001b[0m\u001b[0;32m    248\u001b[0m         )\n\u001b[0;32m    249\u001b[0m \u001b[1;33m\u001b[0m\u001b[0m\n",
      "\u001b[1;31mAttributeError\u001b[0m: 'Dataset' object has no attribute 'ds_variable'"
     ]
    }
   ],
   "source": [
    "fName = './data/YearData/ozone2021peaktest.nc'\n",
    "ds_variable = 'ozone'\n",
    "# Open raw data. This raw data will be used as part of return. \n",
    "rdata = xr.open_dataset(fName)\n",
    "rdata.min().ds_variable.values"
   ]
  },
  {
   "cell_type": "code",
   "execution_count": null,
   "id": "258fda82-4145-48ef-9538-c164ebaa8805",
   "metadata": {},
   "outputs": [],
   "source": []
  },
  {
   "cell_type": "markdown",
   "id": "abdf3df7-7258-4e2b-89d4-1137912af8ec",
   "metadata": {},
   "source": [
    "测试怎么读取year file"
   ]
  },
  {
   "cell_type": "code",
   "execution_count": null,
   "id": "60761210-a1b8-4c61-9b5b-f9e0d4eb16db",
   "metadata": {},
   "outputs": [],
   "source": [
    "# Opening JSON file\n",
    "f = open('./data/YearData/YearData.json')\n",
    "  \n",
    "# returns JSON object as \n",
    "# a dictionary\n",
    "fileList = json.load(f)\n",
    "f.close()\n",
    "fileList"
   ]
  },
  {
   "cell_type": "code",
   "execution_count": null,
   "id": "bb24f7f2-58b4-4f73-8062-db748d1d3386",
   "metadata": {},
   "outputs": [],
   "source": [
    "fileList['nitrogen_dioxide']['2020']"
   ]
  },
  {
   "cell_type": "code",
   "execution_count": null,
   "id": "3bbcdae0-3e7a-4ba3-8ab0-4a01fe5e5377",
   "metadata": {},
   "outputs": [],
   "source": []
  }
 ],
 "metadata": {
  "kernelspec": {
   "display_name": "Python 3 (ipykernel)",
   "language": "python",
   "name": "python3"
  },
  "language_info": {
   "codemirror_mode": {
    "name": "ipython",
    "version": 3
   },
   "file_extension": ".py",
   "mimetype": "text/x-python",
   "name": "python",
   "nbconvert_exporter": "python",
   "pygments_lexer": "ipython3",
   "version": "3.7.12"
  }
 },
 "nbformat": 4,
 "nbformat_minor": 5
}
