{
 "cells": [
  {
   "cell_type": "code",
   "execution_count": null,
   "id": "11606197-ee0e-4c1a-96cc-1fd146b0839b",
   "metadata": {},
   "outputs": [],
   "source": [
    "import numpy as np\n",
    "import pandas as pd\n",
    "import xarray as xr\n",
    "\n",
    "import plotly.express as px \n",
    "import matplotlib.pyplot as plt\n",
    "\n",
    "from datetime import datetime, timedelta\n",
    "\n",
    "import cdsapi\n",
    "\n",
    "filePath = 'F:\\\\NCFILE\\\\'\n",
    "fileName = '2020NO2year.nc'"
   ]
  },
  {
   "cell_type": "code",
   "execution_count": null,
   "id": "310a9357-c3b8-42e3-9ad5-b5e35d300fd2",
   "metadata": {},
   "outputs": [],
   "source": [
    "c = cdsapi.Client()\n",
    "c.retrieve(\n",
    "    'cams-europe-air-quality-forecasts',\n",
    "    {\n",
    "        'model': 'ensemble',\n",
    "        'date': '2020-01-01/2020-12-31',\n",
    "        'format': 'netcdf',\n",
    "        'variable': 'particulate_matter_2.5um',\n",
    "        'level': '0',\n",
    "        'type': 'analysis',\n",
    "        'time': [\n",
    "            '00:00', '01:00', '02:00',\n",
    "            '03:00', '04:00', '05:00',\n",
    "            '06:00', '07:00', '08:00',\n",
    "            '09:00', '10:00', '11:00',\n",
    "            '12:00', '13:00', '14:00',\n",
    "            '15:00', '16:00', '17:00',\n",
    "            '18:00', '19:00', '20:00',\n",
    "            '21:00', '22:00', '23:00',\n",
    "        ],\n",
    "        'leadtime_hour': '0',\n",
    "    },\n",
    "    filePath+fileName)"
   ]
  },
  {
   "cell_type": "code",
   "execution_count": null,
   "id": "edee957a-7f2c-4fbd-a87b-a54a7c70cb3a",
   "metadata": {},
   "outputs": [],
   "source": [
    "# Open raw data. This raw data will be used as part of return. \n",
    "rdata = xr.open_dataset(filePath+fileName)\n",
    "rdata = rdata.assign_coords(longitude=(((rdata.longitude + 180) % 360) - 180))\n",
    "rdata"
   ]
  },
  {
   "cell_type": "code",
   "execution_count": null,
   "id": "3d8e09c7-cf51-4c38-979a-bcef261224a6",
   "metadata": {},
   "outputs": [],
   "source": [
    "rdata.time"
   ]
  },
  {
   "cell_type": "code",
   "execution_count": null,
   "id": "3df2379d-be52-458b-b739-bb849202f2bf",
   "metadata": {},
   "outputs": [],
   "source": [
    "rdata_values = rdata.co_conc.values\n",
    "rdata_values.shape"
   ]
  },
  {
   "cell_type": "code",
   "execution_count": null,
   "id": "b0d609fd-1bba-41b8-a5fd-e3a79db4aaa2",
   "metadata": {},
   "outputs": [],
   "source": [
    "mean_data = np.mean(rdata_values[:, :, :, :], axis=(2,3))\n",
    "mean_data"
   ]
  },
  {
   "cell_type": "code",
   "execution_count": null,
   "id": "08f145b6-9f6b-4b8f-a783-62f2d0f1342f",
   "metadata": {},
   "outputs": [],
   "source": [
    "mean_each_time_data = np.reshape(np.average(rdata_values, axis=(2, 3)),(1,-1))\n",
    "mean_each_time_data"
   ]
  },
  {
   "cell_type": "code",
   "execution_count": null,
   "id": "7938852c-ba5e-47c6-beff-2380f536d66b",
   "metadata": {},
   "outputs": [],
   "source": [
    "mean_each_time_data = np.average(rdata_values, axis=(2, 3))\n",
    "mean_each_time_data.shape"
   ]
  },
  {
   "cell_type": "code",
   "execution_count": null,
   "id": "6b7ded30-6469-4bff-8977-49915a1b871c",
   "metadata": {},
   "outputs": [],
   "source": [
    "mean_each_time_data = np.reshape(np.average(rdata_values, axis=(2, 3)),(1,-1))"
   ]
  },
  {
   "cell_type": "code",
   "execution_count": null,
   "id": "911744e8-b421-44cc-95a8-7cac4a56307c",
   "metadata": {},
   "outputs": [],
   "source": [
    "type(mean_each_time_data[0])"
   ]
  },
  {
   "cell_type": "code",
   "execution_count": null,
   "id": "ce02dccd-f1ad-4368-81c3-892451f7de01",
   "metadata": {},
   "outputs": [],
   "source": []
  },
  {
   "cell_type": "code",
   "execution_count": null,
   "id": "6b9705f0-dcab-421d-a88b-7314dd756bbf",
   "metadata": {},
   "outputs": [],
   "source": [
    "lat_pixel = 45.5\n",
    "lon_pixel = 9.4"
   ]
  },
  {
   "cell_type": "code",
   "execution_count": null,
   "id": "a314bd38-09aa-463f-9849-1bee78146d17",
   "metadata": {},
   "outputs": [],
   "source": [
    "NearGrid=rdata.sel(latitude=lat_pixel, longitude=lon_pixel, method='nearest')\n",
    "NearGrid"
   ]
  },
  {
   "cell_type": "code",
   "execution_count": null,
   "id": "0ab1a5ad-1a14-4d64-aa24-ff89e338e9ed",
   "metadata": {},
   "outputs": [],
   "source": [
    "NearGrid['co_conc'].values"
   ]
  },
  {
   "cell_type": "code",
   "execution_count": null,
   "id": "f045f143-1e3e-4678-b51d-8028e45180bd",
   "metadata": {},
   "outputs": [],
   "source": [
    "x1 = np.float64(NearGrid.time.values/3600000000000)\n",
    "y1 = np.float64(NearGrid.co_conc.values)\n",
    "y2 = np.zeros(y1.shape, dtype=None) + 30"
   ]
  },
  {
   "cell_type": "code",
   "execution_count": null,
   "id": "7706a680-b2d2-4716-89a4-e33821bad2a4",
   "metadata": {},
   "outputs": [],
   "source": [
    "x1"
   ]
  },
  {
   "cell_type": "code",
   "execution_count": null,
   "id": "e6eaf985-e7a8-4815-8fc7-ce7841594590",
   "metadata": {},
   "outputs": [],
   "source": [
    "y1"
   ]
  },
  {
   "cell_type": "code",
   "execution_count": null,
   "id": "83177cae-6d27-47e2-a69e-e31f5558fbc6",
   "metadata": {},
   "outputs": [],
   "source": [
    "fig = plt.figure(figsize=(10, 10))\n",
    "\n",
    "axes = fig.add_subplot(1, 1, 1)\n",
    "axes.set_title('Display at location')\n",
    "\n",
    "axes.set_ylabel(\"Concentration\")\n",
    "axes.set_xlabel(\"time\")#设置x坐标系的标签\n",
    "\n",
    "axes.plot(x1, y1, color='black',label='Pollutant',marker='*',markersize=5, markerfacecolor='green',markeredgecolor='black', markeredgewidth=1)\n",
    "axes.plot(x1, y2, color='red',label='Threshold')\n",
    "axes.legend()  # 默认就是best 也可以是 lower right"
   ]
  },
  {
   "cell_type": "code",
   "execution_count": null,
   "id": "adf66d56-ef21-4f53-a9a8-bac707a683d5",
   "metadata": {},
   "outputs": [],
   "source": [
    "x1"
   ]
  },
  {
   "cell_type": "code",
   "execution_count": null,
   "id": "811bd731-7eb7-482e-bca0-f13ca66641e2",
   "metadata": {},
   "outputs": [],
   "source": [
    "y1.shape"
   ]
  },
  {
   "cell_type": "code",
   "execution_count": null,
   "id": "8ad8ce01-f8e2-4006-8626-8d184e060357",
   "metadata": {},
   "outputs": [],
   "source": []
  },
  {
   "cell_type": "code",
   "execution_count": null,
   "id": "35d32fee-11df-413d-9aa3-0c451486a617",
   "metadata": {},
   "outputs": [],
   "source": []
  }
 ],
 "metadata": {
  "kernelspec": {
   "display_name": "Python 3 (ipykernel)",
   "language": "python",
   "name": "python3"
  },
  "language_info": {
   "codemirror_mode": {
    "name": "ipython",
    "version": 3
   },
   "file_extension": ".py",
   "mimetype": "text/x-python",
   "name": "python",
   "nbconvert_exporter": "python",
   "pygments_lexer": "ipython3",
   "version": "3.7.12"
  }
 },
 "nbformat": 4,
 "nbformat_minor": 5
}
