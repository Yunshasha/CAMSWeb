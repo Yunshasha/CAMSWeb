{
 "cells": [
  {
   "cell_type": "code",
   "execution_count": null,
   "id": "db5709d1-1ded-424e-bc4f-b6ec2fabee06",
   "metadata": {},
   "outputs": [],
   "source": [
    "import matplotlib.pyplot as plt\n",
    "import pandas as pd\n",
    "import geopandas as gpd\n",
    "import contextily as ctx\n",
    "import numpy as np\n",
    "import xarray as xr\n",
    "from shapely.geometry import mapping"
   ]
  },
  {
   "cell_type": "code",
   "execution_count": null,
   "id": "dba93198-c0b6-44fa-b46d-0f8c26c4ace9",
   "metadata": {},
   "outputs": [],
   "source": [
    "path_rg = \"data/NUTS_RG_01M_2021_4326_LEVL_0.shp\"\n",
    "gdf_rg = gpd.read_file(path_rg)\n",
    "gdf_rg.crs = \"EPSG:4326\""
   ]
  },
  {
   "cell_type": "code",
   "execution_count": null,
   "id": "0429c1a9-931d-43c1-96bc-6a3a96c0e0d9",
   "metadata": {},
   "outputs": [],
   "source": [
    "# plot\n",
    "ax = gdf_rg.plot(figsize=(20,15), color=\"lightgray\")\n",
    "# plot borders\n",
    "gdf_rg.boundary.plot(color=\"darkgreen\", ax=ax)"
   ]
  },
  {
   "cell_type": "code",
   "execution_count": null,
   "id": "e5e5b180-488d-4c44-b7d9-592f9a9ad27f",
   "metadata": {},
   "outputs": [],
   "source": [
    "gdf_rg.head()"
   ]
  },
  {
   "cell_type": "code",
   "execution_count": null,
   "id": "0cb077b1-56ff-4079-82d0-253eaa71cfa3",
   "metadata": {},
   "outputs": [],
   "source": [
    "gdf_it = gdf_rg[gdf_rg.CNTR_CODE == \"IT\"]\n",
    "gdf_it"
   ]
  },
  {
   "cell_type": "code",
   "execution_count": null,
   "id": "7fe9f0e7-04aa-41ae-a07c-83ed214432c4",
   "metadata": {},
   "outputs": [],
   "source": [
    "de_bounds = gdf_it.bounds\n",
    "NWSE = [list(de_bounds.maxy.values)[0],list(de_bounds.minx.values)[0],list(de_bounds.miny.values)[0],list(de_bounds.maxx.values)[0]]\n",
    "NWSE\n",
    "# de_bounds.minx"
   ]
  },
  {
   "cell_type": "code",
   "execution_count": null,
   "id": "42699686-c2f5-44c8-9af4-b957cd2e8237",
   "metadata": {},
   "outputs": [],
   "source": [
    "ax = gdf_it.plot(figsize=(20,15), color=\"lightgray\")\n",
    "# plot borders\n",
    "gdf_it.boundary.plot(color=\"darkgreen\", ax=ax)\n",
    "# add basemap by OpenStreetMap\n",
    "ctx.add_basemap(ax, source=ctx.providers.OpenStreetMap.HOT)"
   ]
  },
  {
   "cell_type": "code",
   "execution_count": null,
   "id": "e5a4f8c9-04a9-46ce-aa38-d5132188b033",
   "metadata": {},
   "outputs": [],
   "source": [
    "# import import numpy as np\n",
    "# import pandas as pd\n",
    "# import xarray as xr\n",
    "# import geojson\n",
    "# from shapely.geometry import mapping"
   ]
  },
  {
   "cell_type": "code",
   "execution_count": null,
   "id": "ad2a84a2-98c8-423c-9544-d05a5222c130",
   "metadata": {},
   "outputs": [],
   "source": [
    "data = xr.open_dataset(\"data/download.nc\")\n",
    "data.rio.write_crs(\"epsg:4326\", inplace=True) # set crs \n",
    "\n",
    "# trans the longitude from [0,360] to [-180,180] this is important\n",
    "data = data.assign_coords(longitude=(((data.longitude + 180) % 360) - 180))#.sortby('longitude')\n",
    "data"
   ]
  },
  {
   "cell_type": "code",
   "execution_count": null,
   "id": "470ba8fc-c7e8-4390-94b6-70f869968de5",
   "metadata": {},
   "outputs": [],
   "source": [
    "gdf_nation= gdf_rg[gdf_rg.CNTR_CODE == \"IT\"]\n",
    "gdf_nation"
   ]
  },
  {
   "cell_type": "code",
   "execution_count": null,
   "id": "2f38b221-9bb0-4299-8f4f-49802176b492",
   "metadata": {},
   "outputs": [],
   "source": [
    "# cc = xr.DataArray(data.pm2p5_conc)\n",
    "# cc.rio.write_crs(\"epsg:4326\", inplace=True)\n",
    "# cc"
   ]
  },
  {
   "cell_type": "code",
   "execution_count": null,
   "id": "11b0550c-185a-48d1-ac1c-6b2a5e72d797",
   "metadata": {},
   "outputs": [],
   "source": [
    "print('clip...')\n",
    "clipped = data.rio.clip(gdf_nation.geometry.apply(mapping),'epsg:4326',all_touched=False)\n",
    "clipped"
   ]
  },
  {
   "cell_type": "code",
   "execution_count": null,
   "id": "dbacfd0e-8d33-49f0-86d1-a4bf62b6e212",
   "metadata": {},
   "outputs": [],
   "source": [
    "r_values = clipped.pm2p5_conc.values\n",
    "pd.DataFrame(r_values[0][0]).to_csv(\"clipped.csv\")"
   ]
  },
  {
   "cell_type": "code",
   "execution_count": null,
   "id": "a4fb0fc7-fe80-4157-86ff-0bd2c955e980",
   "metadata": {},
   "outputs": [],
   "source": [
    "data = xr.open_dataset(\"b55fe3bbb11a4ab3ba9340c6e39d0c68\")\n",
    "data"
   ]
  },
  {
   "cell_type": "code",
   "execution_count": null,
   "id": "4d396870-0792-4722-a2c3-e4b22e2eef66",
   "metadata": {},
   "outputs": [],
   "source": []
  }
 ],
 "metadata": {
  "kernelspec": {
   "display_name": "Python 3 (ipykernel)",
   "language": "python",
   "name": "python3"
  },
  "language_info": {
   "codemirror_mode": {
    "name": "ipython",
    "version": 3
   },
   "file_extension": ".py",
   "mimetype": "text/x-python",
   "name": "python",
   "nbconvert_exporter": "python",
   "pygments_lexer": "ipython3",
   "version": "3.7.12"
  }
 },
 "nbformat": 4,
 "nbformat_minor": 5
}
