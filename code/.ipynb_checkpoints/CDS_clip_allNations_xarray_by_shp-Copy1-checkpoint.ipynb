{
 "cells": [
  {
   "cell_type": "code",
   "execution_count": 2,
   "id": "db5709d1-1ded-424e-bc4f-b6ec2fabee06",
   "metadata": {},
   "outputs": [],
   "source": [
    "import matplotlib.pyplot as plt\n",
    "import pandas as pd\n",
    "import geopandas as gpd\n",
    "import contextily as ctx\n",
    "import numpy as np\n",
    "import xarray as xr\n",
    "from shapely.geometry import mapping\n",
    "import json"
   ]
  },
  {
   "cell_type": "code",
   "execution_count": 23,
   "id": "dba93198-c0b6-44fa-b46d-0f8c26c4ace9",
   "metadata": {},
   "outputs": [],
   "source": [
    "path_rg = \"data/NUTS_RG_01M_2021_4326_LEVL_2.shp\"\n",
    "gdf_rg = gpd.read_file(path_rg)\n",
    "gdf_rg.crs = \"EPSG:4326\""
   ]
  },
  {
   "cell_type": "code",
   "execution_count": 24,
   "id": "598abef0-f003-466a-85d3-91fe58de16f5",
   "metadata": {},
   "outputs": [
    {
     "data": {
      "text/html": [
       "<div>\n",
       "<style scoped>\n",
       "    .dataframe tbody tr th:only-of-type {\n",
       "        vertical-align: middle;\n",
       "    }\n",
       "\n",
       "    .dataframe tbody tr th {\n",
       "        vertical-align: top;\n",
       "    }\n",
       "\n",
       "    .dataframe thead th {\n",
       "        text-align: right;\n",
       "    }\n",
       "</style>\n",
       "<table border=\"1\" class=\"dataframe\">\n",
       "  <thead>\n",
       "    <tr style=\"text-align: right;\">\n",
       "      <th></th>\n",
       "      <th>NUTS_ID</th>\n",
       "      <th>LEVL_CODE</th>\n",
       "      <th>CNTR_CODE</th>\n",
       "      <th>NAME_LATN</th>\n",
       "      <th>NUTS_NAME</th>\n",
       "      <th>MOUNT_TYPE</th>\n",
       "      <th>URBN_TYPE</th>\n",
       "      <th>COAST_TYPE</th>\n",
       "      <th>FID</th>\n",
       "      <th>geometry</th>\n",
       "    </tr>\n",
       "  </thead>\n",
       "  <tbody>\n",
       "    <tr>\n",
       "      <th>0</th>\n",
       "      <td>FRB0</td>\n",
       "      <td>2</td>\n",
       "      <td>FR</td>\n",
       "      <td>Centre — Val de Loire</td>\n",
       "      <td>Centre — Val de Loire</td>\n",
       "      <td>0.0</td>\n",
       "      <td>NaN</td>\n",
       "      <td>0</td>\n",
       "      <td>FRB0</td>\n",
       "      <td>POLYGON ((1.50153 48.94105, 1.51118 48.93461, ...</td>\n",
       "    </tr>\n",
       "    <tr>\n",
       "      <th>1</th>\n",
       "      <td>CZ04</td>\n",
       "      <td>2</td>\n",
       "      <td>CZ</td>\n",
       "      <td>Severozápad</td>\n",
       "      <td>Severozápad</td>\n",
       "      <td>0.0</td>\n",
       "      <td>NaN</td>\n",
       "      <td>0</td>\n",
       "      <td>CZ04</td>\n",
       "      <td>POLYGON ((14.49122 51.04353, 14.49945 51.04610...</td>\n",
       "    </tr>\n",
       "    <tr>\n",
       "      <th>2</th>\n",
       "      <td>CZ07</td>\n",
       "      <td>2</td>\n",
       "      <td>CZ</td>\n",
       "      <td>Střední Morava</td>\n",
       "      <td>Střední Morava</td>\n",
       "      <td>0.0</td>\n",
       "      <td>NaN</td>\n",
       "      <td>0</td>\n",
       "      <td>CZ07</td>\n",
       "      <td>POLYGON ((16.90792 50.44945, 16.92475 50.43939...</td>\n",
       "    </tr>\n",
       "    <tr>\n",
       "      <th>3</th>\n",
       "      <td>DK02</td>\n",
       "      <td>2</td>\n",
       "      <td>DK</td>\n",
       "      <td>Sjælland</td>\n",
       "      <td>Sjælland</td>\n",
       "      <td>0.0</td>\n",
       "      <td>NaN</td>\n",
       "      <td>0</td>\n",
       "      <td>DK02</td>\n",
       "      <td>MULTIPOLYGON (((12.27222 55.05490, 12.28522 55...</td>\n",
       "    </tr>\n",
       "    <tr>\n",
       "      <th>4</th>\n",
       "      <td>ES12</td>\n",
       "      <td>2</td>\n",
       "      <td>ES</td>\n",
       "      <td>Principado de Asturias</td>\n",
       "      <td>Principado de Asturias</td>\n",
       "      <td>0.0</td>\n",
       "      <td>NaN</td>\n",
       "      <td>0</td>\n",
       "      <td>ES12</td>\n",
       "      <td>MULTIPOLYGON (((-4.51230 43.39320, -4.51142 43...</td>\n",
       "    </tr>\n",
       "    <tr>\n",
       "      <th>...</th>\n",
       "      <td>...</td>\n",
       "      <td>...</td>\n",
       "      <td>...</td>\n",
       "      <td>...</td>\n",
       "      <td>...</td>\n",
       "      <td>...</td>\n",
       "      <td>...</td>\n",
       "      <td>...</td>\n",
       "      <td>...</td>\n",
       "      <td>...</td>\n",
       "    </tr>\n",
       "    <tr>\n",
       "      <th>329</th>\n",
       "      <td>TR31</td>\n",
       "      <td>2</td>\n",
       "      <td>TR</td>\n",
       "      <td>İzmir</td>\n",
       "      <td>İzmir</td>\n",
       "      <td>0.0</td>\n",
       "      <td>NaN</td>\n",
       "      <td>0</td>\n",
       "      <td>TR31</td>\n",
       "      <td>MULTIPOLYGON (((28.44261 38.10466, 28.41953 38...</td>\n",
       "    </tr>\n",
       "    <tr>\n",
       "      <th>330</th>\n",
       "      <td>TR10</td>\n",
       "      <td>2</td>\n",
       "      <td>TR</td>\n",
       "      <td>İstanbul</td>\n",
       "      <td>İstanbul</td>\n",
       "      <td>0.0</td>\n",
       "      <td>NaN</td>\n",
       "      <td>0</td>\n",
       "      <td>TR10</td>\n",
       "      <td>MULTIPOLYGON (((29.86563 41.14345, 29.86608 41...</td>\n",
       "    </tr>\n",
       "    <tr>\n",
       "      <th>331</th>\n",
       "      <td>TR32</td>\n",
       "      <td>2</td>\n",
       "      <td>TR</td>\n",
       "      <td>Aydın, Denizli, Muğla</td>\n",
       "      <td>Aydın, Denizli, Muğla</td>\n",
       "      <td>0.0</td>\n",
       "      <td>NaN</td>\n",
       "      <td>0</td>\n",
       "      <td>TR32</td>\n",
       "      <td>MULTIPOLYGON (((29.85212 37.75229, 29.80355 37...</td>\n",
       "    </tr>\n",
       "    <tr>\n",
       "      <th>332</th>\n",
       "      <td>TR42</td>\n",
       "      <td>2</td>\n",
       "      <td>TR</td>\n",
       "      <td>Kocaeli, Sakarya, Düzce, Bolu, Yalova</td>\n",
       "      <td>Kocaeli, Sakarya, Düzce, Bolu, Yalova</td>\n",
       "      <td>0.0</td>\n",
       "      <td>NaN</td>\n",
       "      <td>0</td>\n",
       "      <td>TR42</td>\n",
       "      <td>POLYGON ((30.35469 41.18419, 30.40936 41.16575...</td>\n",
       "    </tr>\n",
       "    <tr>\n",
       "      <th>333</th>\n",
       "      <td>NO0B</td>\n",
       "      <td>2</td>\n",
       "      <td>NO</td>\n",
       "      <td>Jan Mayen and Svalbard</td>\n",
       "      <td>Jan Mayen and Svalbard</td>\n",
       "      <td>NaN</td>\n",
       "      <td>NaN</td>\n",
       "      <td>0</td>\n",
       "      <td>NO0B</td>\n",
       "      <td>MULTIPOLYGON (((33.09131 80.24908, 33.09929 80...</td>\n",
       "    </tr>\n",
       "  </tbody>\n",
       "</table>\n",
       "<p>334 rows × 10 columns</p>\n",
       "</div>"
      ],
      "text/plain": [
       "    NUTS_ID  LEVL_CODE CNTR_CODE                              NAME_LATN  \\\n",
       "0      FRB0          2        FR                  Centre — Val de Loire   \n",
       "1      CZ04          2        CZ                            Severozápad   \n",
       "2      CZ07          2        CZ                         Střední Morava   \n",
       "3      DK02          2        DK                               Sjælland   \n",
       "4      ES12          2        ES                 Principado de Asturias   \n",
       "..      ...        ...       ...                                    ...   \n",
       "329    TR31          2        TR                                  İzmir   \n",
       "330    TR10          2        TR                               İstanbul   \n",
       "331    TR32          2        TR                  Aydın, Denizli, Muğla   \n",
       "332    TR42          2        TR  Kocaeli, Sakarya, Düzce, Bolu, Yalova   \n",
       "333    NO0B          2        NO                 Jan Mayen and Svalbard   \n",
       "\n",
       "                                 NUTS_NAME  MOUNT_TYPE  URBN_TYPE  COAST_TYPE  \\\n",
       "0                    Centre — Val de Loire         0.0        NaN           0   \n",
       "1                              Severozápad         0.0        NaN           0   \n",
       "2                           Střední Morava         0.0        NaN           0   \n",
       "3                                 Sjælland         0.0        NaN           0   \n",
       "4                   Principado de Asturias         0.0        NaN           0   \n",
       "..                                     ...         ...        ...         ...   \n",
       "329                                  İzmir         0.0        NaN           0   \n",
       "330                               İstanbul         0.0        NaN           0   \n",
       "331                  Aydın, Denizli, Muğla         0.0        NaN           0   \n",
       "332  Kocaeli, Sakarya, Düzce, Bolu, Yalova         0.0        NaN           0   \n",
       "333                 Jan Mayen and Svalbard         NaN        NaN           0   \n",
       "\n",
       "      FID                                           geometry  \n",
       "0    FRB0  POLYGON ((1.50153 48.94105, 1.51118 48.93461, ...  \n",
       "1    CZ04  POLYGON ((14.49122 51.04353, 14.49945 51.04610...  \n",
       "2    CZ07  POLYGON ((16.90792 50.44945, 16.92475 50.43939...  \n",
       "3    DK02  MULTIPOLYGON (((12.27222 55.05490, 12.28522 55...  \n",
       "4    ES12  MULTIPOLYGON (((-4.51230 43.39320, -4.51142 43...  \n",
       "..    ...                                                ...  \n",
       "329  TR31  MULTIPOLYGON (((28.44261 38.10466, 28.41953 38...  \n",
       "330  TR10  MULTIPOLYGON (((29.86563 41.14345, 29.86608 41...  \n",
       "331  TR32  MULTIPOLYGON (((29.85212 37.75229, 29.80355 37...  \n",
       "332  TR42  POLYGON ((30.35469 41.18419, 30.40936 41.16575...  \n",
       "333  NO0B  MULTIPOLYGON (((33.09131 80.24908, 33.09929 80...  \n",
       "\n",
       "[334 rows x 10 columns]"
      ]
     },
     "execution_count": 24,
     "metadata": {},
     "output_type": "execute_result"
    }
   ],
   "source": [
    "gdf_rg"
   ]
  },
  {
   "cell_type": "code",
   "execution_count": null,
   "id": "e5a4f8c9-04a9-46ce-aa38-d5132188b033",
   "metadata": {},
   "outputs": [],
   "source": [
    "# import import numpy as np\n",
    "# import pandas as pd\n",
    "# import xarray as xr\n",
    "# import geojson\n",
    "# from shapely.geometry import mapping\n",
    "import getMean"
   ]
  },
  {
   "cell_type": "code",
   "execution_count": 8,
   "id": "1aaa8ebe-1828-4949-96e8-8578fe833bfd",
   "metadata": {},
   "outputs": [
    {
     "data": {
      "text/plain": [
       "array(['CY0', 'DEA', 'CH0', 'FRE', 'BG3', 'DE7', 'EL5', 'EL6', 'DE1',\n",
       "       'BE3', 'DEF', 'DEC', 'DE3', 'DE5', 'DE6', 'FRC', 'DEE', 'DEG',\n",
       "       'DK0', 'DE4', 'BG4', 'DED', 'EE0', 'DE9', 'AL0', 'DEB', 'BE2',\n",
       "       'EL3', 'EL4', 'CZ0', 'DE2', 'DE8', 'AT1', 'AT2', 'MT0', 'ES4',\n",
       "       'ES7', 'FI1', 'FR1', 'FRG', 'NL4', 'FI2', 'FRH', 'FRD', 'ES1',\n",
       "       'AT3', 'ES3', 'ES6', 'PL8', 'FRB', 'ES2', 'ES5', 'FRJ', 'FRM',\n",
       "       'HU2', 'ITC', 'HU1', 'FRL', 'ITH', 'PL4', 'FRY', 'HR0', 'ITF',\n",
       "       'LT0', 'LU0', 'LI0', 'HU3', 'IE0', 'IS0', 'ITI', 'BE1', 'FRI',\n",
       "       'RS2', 'SE1', 'SE2', 'SE3', 'FRK', 'SI0', 'SK0', 'RO3', 'PL5',\n",
       "       'PL6', 'UKN', 'UKF', 'NL2', 'UKG', 'NL3', 'PT1', 'PT2', 'PT3',\n",
       "       'RO1', 'UKL', 'UKM', 'MK0', 'UKK', 'UKE', 'LV0', 'UKJ', 'ME0',\n",
       "       'NL1', 'RO4', 'RO2', 'UKH', 'UKI', 'UKC', 'FRF', 'UKD', 'PL2',\n",
       "       'PL9', 'ITG', 'PL7', 'RS1', 'TR8', 'TR1', 'TR2', 'TRA', 'TR9',\n",
       "       'TRC', 'TR3', 'TR5', 'TR6', 'TR4', 'TRB', 'TR7', 'NO0'],\n",
       "      dtype=object)"
      ]
     },
     "execution_count": 8,
     "metadata": {},
     "output_type": "execute_result"
    }
   ],
   "source": [
    "cntr_code_list = gdf_rg.NUTS_ID.values\n",
    "cntr_code_list"
   ]
  },
  {
   "cell_type": "code",
   "execution_count": 11,
   "id": "b2f667b3-7bc3-45aa-80ef-d8363ec78984",
   "metadata": {},
   "outputs": [],
   "source": [
    "bounds_list = []\n",
    "for i in range(0,len(cntr_code_list)):\n",
    "    gdf_nation= gdf_rg[gdf_rg.NUTS_ID == cntr_code_list[i]]\n",
    "    bounds = gdf_nation.geometry.apply(mapping).values\n",
    "    bounds_list.append(bounds)"
   ]
  },
  {
   "cell_type": "code",
   "execution_count": 13,
   "id": "60548b7e-f27c-4549-ad2a-4aa72d0d13b6",
   "metadata": {},
   "outputs": [],
   "source": [
    "# bounds_list"
   ]
  },
  {
   "cell_type": "code",
   "execution_count": 15,
   "id": "7d5ba1dd-1400-474f-ab13-01fdbebb5b7c",
   "metadata": {},
   "outputs": [
    {
     "ename": "NoDataInBounds",
     "evalue": "No data found in bounds. Data variable: co_conc",
     "output_type": "error",
     "traceback": [
      "\u001b[1;31m---------------------------------------------------------------------------\u001b[0m",
      "\u001b[1;31mNoDataInBounds\u001b[0m                            Traceback (most recent call last)",
      "\u001b[1;32m~\\AppData\\Local\\Temp\\ipykernel_2068\\3411142720.py\u001b[0m in \u001b[0;36m<module>\u001b[1;34m\u001b[0m\n\u001b[0;32m      4\u001b[0m \u001b[0mds_bounds_list\u001b[0m \u001b[1;33m=\u001b[0m \u001b[0mbounds_list\u001b[0m\u001b[1;33m\u001b[0m\u001b[1;33m\u001b[0m\u001b[0m\n\u001b[0;32m      5\u001b[0m \u001b[1;33m\u001b[0m\u001b[0m\n\u001b[1;32m----> 6\u001b[1;33m \u001b[1;33m[\u001b[0m\u001b[0mmean_data_list\u001b[0m\u001b[1;33m,\u001b[0m\u001b[0mfName\u001b[0m\u001b[1;33m]\u001b[0m \u001b[1;33m=\u001b[0m \u001b[0mgetMean\u001b[0m\u001b[1;33m.\u001b[0m\u001b[0mget_mean_europe_test\u001b[0m\u001b[1;33m(\u001b[0m\u001b[0mds_name\u001b[0m\u001b[1;33m=\u001b[0m\u001b[0mds_name\u001b[0m\u001b[1;33m,\u001b[0m \u001b[0mds_time\u001b[0m\u001b[1;33m=\u001b[0m\u001b[0mds_time\u001b[0m\u001b[1;33m,\u001b[0m \u001b[0mds_variable\u001b[0m\u001b[1;33m=\u001b[0m\u001b[0mds_variable\u001b[0m\u001b[1;33m,\u001b[0m\u001b[0mds_bounds_list\u001b[0m\u001b[1;33m=\u001b[0m\u001b[0mds_bounds_list\u001b[0m\u001b[1;33m)\u001b[0m\u001b[1;33m\u001b[0m\u001b[1;33m\u001b[0m\u001b[0m\n\u001b[0m",
      "\u001b[1;32m~\\Desktop\\SA\\getMean.py\u001b[0m in \u001b[0;36mget_mean_europe_test\u001b[1;34m(ds_name, ds_time, ds_variable, ds_bounds_list)\u001b[0m\n\u001b[0;32m    221\u001b[0m         \u001b[1;32mfor\u001b[0m \u001b[0mi\u001b[0m \u001b[1;32min\u001b[0m \u001b[0mrange\u001b[0m\u001b[1;33m(\u001b[0m\u001b[1;36m0\u001b[0m\u001b[1;33m,\u001b[0m\u001b[0mlen\u001b[0m\u001b[1;33m(\u001b[0m\u001b[0mds_bounds_list\u001b[0m\u001b[1;33m)\u001b[0m\u001b[1;33m)\u001b[0m\u001b[1;33m:\u001b[0m\u001b[1;33m\u001b[0m\u001b[1;33m\u001b[0m\u001b[0m\n\u001b[0;32m    222\u001b[0m \u001b[1;33m\u001b[0m\u001b[0m\n\u001b[1;32m--> 223\u001b[1;33m             \u001b[0mrdata\u001b[0m \u001b[1;33m=\u001b[0m \u001b[0mrdataAll\u001b[0m\u001b[1;33m.\u001b[0m\u001b[0mrio\u001b[0m\u001b[1;33m.\u001b[0m\u001b[0mclip\u001b[0m\u001b[1;33m(\u001b[0m\u001b[0mds_bounds_list\u001b[0m\u001b[1;33m[\u001b[0m\u001b[0mi\u001b[0m\u001b[1;33m]\u001b[0m\u001b[1;33m,\u001b[0m\u001b[1;34m'epsg:4326'\u001b[0m\u001b[1;33m,\u001b[0m\u001b[0mall_touched\u001b[0m\u001b[1;33m=\u001b[0m\u001b[1;32mFalse\u001b[0m\u001b[1;33m)\u001b[0m\u001b[1;33m\u001b[0m\u001b[1;33m\u001b[0m\u001b[0m\n\u001b[0m\u001b[0;32m    224\u001b[0m \u001b[1;33m\u001b[0m\u001b[0m\n\u001b[0;32m    225\u001b[0m             \u001b[1;31m# Below is note\u001b[0m\u001b[1;33m\u001b[0m\u001b[1;33m\u001b[0m\u001b[1;33m\u001b[0m\u001b[0m\n",
      "\u001b[1;32mD:\\ProgramData\\Anaconda3\\envs\\thesis\\lib\\site-packages\\rioxarray\\raster_dataset.py\u001b[0m in \u001b[0;36mclip\u001b[1;34m(self, geometries, crs, all_touched, drop, invert, from_disk)\u001b[0m\n\u001b[0;32m    344\u001b[0m                         \u001b[0mdrop\u001b[0m\u001b[1;33m=\u001b[0m\u001b[0mdrop\u001b[0m\u001b[1;33m,\u001b[0m\u001b[1;33m\u001b[0m\u001b[1;33m\u001b[0m\u001b[0m\n\u001b[0;32m    345\u001b[0m                         \u001b[0minvert\u001b[0m\u001b[1;33m=\u001b[0m\u001b[0minvert\u001b[0m\u001b[1;33m,\u001b[0m\u001b[1;33m\u001b[0m\u001b[1;33m\u001b[0m\u001b[0m\n\u001b[1;32m--> 346\u001b[1;33m                         \u001b[0mfrom_disk\u001b[0m\u001b[1;33m=\u001b[0m\u001b[0mfrom_disk\u001b[0m\u001b[1;33m,\u001b[0m\u001b[1;33m\u001b[0m\u001b[1;33m\u001b[0m\u001b[0m\n\u001b[0m\u001b[0;32m    347\u001b[0m                     )\n\u001b[0;32m    348\u001b[0m                 )\n",
      "\u001b[1;32mD:\\ProgramData\\Anaconda3\\envs\\thesis\\lib\\site-packages\\rioxarray\\raster_array.py\u001b[0m in \u001b[0;36mclip\u001b[1;34m(self, geometries, crs, all_touched, drop, invert, from_disk)\u001b[0m\n\u001b[0;32m    786\u001b[0m         ):\n\u001b[0;32m    787\u001b[0m             raise NoDataInBounds(\n\u001b[1;32m--> 788\u001b[1;33m                 \u001b[1;34mf\"No data found in bounds.{_get_data_var_message(self._obj)}\"\u001b[0m\u001b[1;33m\u001b[0m\u001b[1;33m\u001b[0m\u001b[0m\n\u001b[0m\u001b[0;32m    789\u001b[0m             )\n\u001b[0;32m    790\u001b[0m \u001b[1;33m\u001b[0m\u001b[0m\n",
      "\u001b[1;31mNoDataInBounds\u001b[0m: No data found in bounds. Data variable: co_conc"
     ]
    }
   ],
   "source": [
    "ds_name = 'cams-europe-air-quality-forecasts'\n",
    "ds_time = '2020-01-01/2020-01-01'\n",
    "ds_variable = 'carbon_monoxide'    \n",
    "ds_bounds_list = bounds_list\n",
    "\n",
    "[mean_data_list,fName] = getMean.get_mean_europe_test(ds_name=ds_name, ds_time=ds_time, ds_variable=ds_variable,ds_bounds_list=ds_bounds_list)"
   ]
  },
  {
   "cell_type": "code",
   "execution_count": null,
   "id": "f8ea10c4-7143-42f2-9047-4c0631ff805a",
   "metadata": {},
   "outputs": [],
   "source": [
    "type(mean_data_list)"
   ]
  },
  {
   "cell_type": "code",
   "execution_count": null,
   "id": "833f1e5e-5721-44c6-9233-f0796fb1301f",
   "metadata": {},
   "outputs": [],
   "source": [
    "mean_data_list"
   ]
  },
  {
   "cell_type": "code",
   "execution_count": null,
   "id": "62ea1ddd-d6c9-497c-a3fc-7c60d8ca7505",
   "metadata": {},
   "outputs": [],
   "source": [
    "type(cntr_code_list)"
   ]
  },
  {
   "cell_type": "code",
   "execution_count": null,
   "id": "77ee6886-97ff-490e-8e7a-89665eb145cb",
   "metadata": {},
   "outputs": [],
   "source": [
    "cntr_code_list"
   ]
  },
  {
   "cell_type": "code",
   "execution_count": null,
   "id": "100351d2-ee94-4dfb-8473-7876930a3674",
   "metadata": {},
   "outputs": [],
   "source": [
    "data_list = {}\n",
    "data2 = {}\n",
    "\n",
    "for i in range(len(cntr_code_list)):\n",
    "    data2[cntr_code_list[i]] = str(mean_data_list[i])\n",
    "\n"
   ]
  },
  {
   "cell_type": "code",
   "execution_count": null,
   "id": "754dff10-9663-45c0-8912-b393092b1600",
   "metadata": {},
   "outputs": [],
   "source": [
    "data2"
   ]
  },
  {
   "cell_type": "code",
   "execution_count": null,
   "id": "a51a97ae-07c0-41f4-88ff-d47412d0802a",
   "metadata": {},
   "outputs": [],
   "source": [
    "data_list = json.dumps({'allConcentration': data2})"
   ]
  },
  {
   "cell_type": "code",
   "execution_count": null,
   "id": "46acc800-6cb7-4d3e-8189-f2f5b7e46613",
   "metadata": {},
   "outputs": [],
   "source": [
    "data_list"
   ]
  },
  {
   "cell_type": "code",
   "execution_count": null,
   "id": "bfd5cdfa-68ad-48d3-b71e-f00e12a85994",
   "metadata": {},
   "outputs": [],
   "source": [
    "data_list.allConcentration"
   ]
  },
  {
   "cell_type": "code",
   "execution_count": null,
   "id": "0e3fa7d2-c657-4e88-b95f-c9baccee29ee",
   "metadata": {},
   "outputs": [],
   "source": []
  }
 ],
 "metadata": {
  "kernelspec": {
   "display_name": "Python 3 (ipykernel)",
   "language": "python",
   "name": "python3"
  },
  "language_info": {
   "codemirror_mode": {
    "name": "ipython",
    "version": 3
   },
   "file_extension": ".py",
   "mimetype": "text/x-python",
   "name": "python",
   "nbconvert_exporter": "python",
   "pygments_lexer": "ipython3",
   "version": "3.7.12"
  }
 },
 "nbformat": 4,
 "nbformat_minor": 5
}
