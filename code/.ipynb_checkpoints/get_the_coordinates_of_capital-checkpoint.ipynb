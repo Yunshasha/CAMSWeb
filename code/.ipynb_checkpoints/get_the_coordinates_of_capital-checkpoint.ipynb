{
 "cells": [
  {
   "cell_type": "code",
   "execution_count": null,
   "id": "db5709d1-1ded-424e-bc4f-b6ec2fabee06",
   "metadata": {},
   "outputs": [],
   "source": [
    "import matplotlib.pyplot as plt\n",
    "import pandas as pd\n",
    "import geopandas as gpd\n",
    "import contextily as ctx\n",
    "import numpy as np\n",
    "import xarray as xr\n",
    "from shapely.geometry import mapping"
   ]
  },
  {
   "cell_type": "code",
   "execution_count": null,
   "id": "dba93198-c0b6-44fa-b46d-0f8c26c4ace9",
   "metadata": {},
   "outputs": [],
   "source": [
    "path_lb = \"data/NUTS_LB_2021_4326_LEVL_0.shp\"\n",
    "gdf_lb = gpd.read_file(path_lb)\n",
    "gdf_lb.crs = \"EPSG:4326\""
   ]
  },
  {
   "cell_type": "code",
   "execution_count": null,
   "id": "0429c1a9-931d-43c1-96bc-6a3a96c0e0d9",
   "metadata": {},
   "outputs": [],
   "source": [
    "# plot\n",
    "ax = gdf_lb.plot(figsize=(20,15), color=\"black\")"
   ]
  },
  {
   "cell_type": "code",
   "execution_count": null,
   "id": "e5e5b180-488d-4c44-b7d9-592f9a9ad27f",
   "metadata": {},
   "outputs": [],
   "source": [
    "gdf_lb.head()"
   ]
  },
  {
   "cell_type": "code",
   "execution_count": null,
   "id": "0cb077b1-56ff-4079-82d0-253eaa71cfa3",
   "metadata": {},
   "outputs": [],
   "source": [
    "gdf_it = gdf_lb[gdf_lb.CNTR_CODE == \"IT\"]\n",
    "gdf_it"
   ]
  },
  {
   "cell_type": "code",
   "execution_count": null,
   "id": "7fe9f0e7-04aa-41ae-a07c-83ed214432c4",
   "metadata": {},
   "outputs": [],
   "source": [
    "capital = gdf_it.geometry#.apply(mapping)\n",
    "capitalCoor = [capital.y.values[0],capital.x.values[0]]\n",
    "print(capitalCoor)\n",
    "type(capitalCoor)"
   ]
  }
 ],
 "metadata": {
  "kernelspec": {
   "display_name": "Python 3 (ipykernel)",
   "language": "python",
   "name": "python3"
  },
  "language_info": {
   "codemirror_mode": {
    "name": "ipython",
    "version": 3
   },
   "file_extension": ".py",
   "mimetype": "text/x-python",
   "name": "python",
   "nbconvert_exporter": "python",
   "pygments_lexer": "ipython3",
   "version": "3.7.12"
  }
 },
 "nbformat": 4,
 "nbformat_minor": 5
}
