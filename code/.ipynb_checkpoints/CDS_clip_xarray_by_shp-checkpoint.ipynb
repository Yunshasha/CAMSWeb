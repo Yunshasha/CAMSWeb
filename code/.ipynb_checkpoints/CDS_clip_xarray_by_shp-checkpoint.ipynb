{
 "cells": [
  {
   "cell_type": "code",
   "execution_count": 1,
   "id": "db5709d1-1ded-424e-bc4f-b6ec2fabee06",
   "metadata": {},
   "outputs": [],
   "source": [
    "import matplotlib.pyplot as plt\n",
    "import pandas as pd\n",
    "import geopandas as gpd\n",
    "import contextily as ctx\n",
    "import numpy as np\n",
    "import xarray as xr\n",
    "from shapely.geometry import mapping"
   ]
  },
  {
   "cell_type": "code",
   "execution_count": null,
   "id": "dba93198-c0b6-44fa-b46d-0f8c26c4ace9",
   "metadata": {},
   "outputs": [],
   "source": [
    "path_rg = \"data/Lombardy/lombardy_municipalities.shp\"\n",
    "gdf_rg = gpd.read_file(path_rg)\n",
    "gdf_rg.crs = \"EPSG:4326\""
   ]
  },
  {
   "cell_type": "code",
   "execution_count": null,
   "id": "1bd15e69-4807-41e0-b5b9-e0943c8a63a0",
   "metadata": {},
   "outputs": [],
   "source": [
    "# gdf_rg"
   ]
  },
  {
   "cell_type": "code",
   "execution_count": null,
   "id": "543f0b08-40c6-4e45-8bb5-5087215ae07c",
   "metadata": {},
   "outputs": [],
   "source": [
    "# gdf_rg[gdf_rg.PRO_COM == int(\"12086\")]"
   ]
  },
  {
   "cell_type": "code",
   "execution_count": null,
   "id": "e5a4f8c9-04a9-46ce-aa38-d5132188b033",
   "metadata": {},
   "outputs": [],
   "source": [
    "# import import numpy as np\n",
    "# import pandas as pd\n",
    "# import xarray as xr\n",
    "# import geojson\n",
    "# from shapely.geometry import mapping\n",
    "import getMean"
   ]
  },
  {
   "cell_type": "code",
   "execution_count": null,
   "id": "b2f667b3-7bc3-45aa-80ef-d8363ec78984",
   "metadata": {},
   "outputs": [],
   "source": [
    "# gdf_nation= gdf_rg[gdf_rg.CNTR_CODE == \"MI\"]\n",
    "gdf_nation= gdf_rg[gdf_rg.PRO_COM == int(\"17089\")]\n",
    "area = gdf_nation.bounds\n",
    "bounds = gdf_nation.geometry.apply(mapping)\n",
    "NWSE_area = [list(area.maxy.values)[0],list(area.minx.values)[0],list(area.miny.values)[0],list(area.maxx.values)[0]]"
   ]
  },
  {
   "cell_type": "code",
   "execution_count": null,
   "id": "60548b7e-f27c-4549-ad2a-4aa72d0d13b6",
   "metadata": {},
   "outputs": [],
   "source": [
    "centroid = gdf_nation.geometry.centroid\n",
    "lon_centroid = centroid.x.values[0]\n",
    "lat_centroid = centroid.y.values[0]\n",
    "lat_centroid"
   ]
  },
  {
   "cell_type": "code",
   "execution_count": null,
   "id": "13850ba3-444b-48bd-a232-273ed8d59ba0",
   "metadata": {},
   "outputs": [],
   "source": [
    "lon_centroid"
   ]
  },
  {
   "cell_type": "code",
   "execution_count": null,
   "id": "8e01642e-ec83-44ac-8d51-2a1b0e4b4a8c",
   "metadata": {},
   "outputs": [],
   "source": [
    "bounds.values"
   ]
  },
  {
   "cell_type": "code",
   "execution_count": null,
   "id": "7bb99710-a19f-4caa-985e-8781d88137f2",
   "metadata": {},
   "outputs": [],
   "source": [
    "NWSE_area"
   ]
  },
  {
   "cell_type": "code",
   "execution_count": null,
   "id": "11aceaf1-afb1-499d-8730-b799881a1be2",
   "metadata": {},
   "outputs": [],
   "source": [
    "np.array(bounds.values[0]['coordinates'][0])"
   ]
  },
  {
   "cell_type": "code",
   "execution_count": null,
   "id": "9270b491-a3f4-43a3-b7d9-f61b3c35d62b",
   "metadata": {},
   "outputs": [],
   "source": [
    "lon = np.array(bounds.values[0]['coordinates'][0])[:,0]\n",
    "lon"
   ]
  },
  {
   "cell_type": "code",
   "execution_count": null,
   "id": "4ec93733-4340-4bc9-9608-2e22bddb65fa",
   "metadata": {},
   "outputs": [],
   "source": [
    "lat = np.array(bounds.values[0]['coordinates'][0])[:,1]\n",
    "lat"
   ]
  },
  {
   "cell_type": "code",
   "execution_count": null,
   "id": "df05899f-ca49-4cef-a88d-9bd653d97cad",
   "metadata": {},
   "outputs": [],
   "source": [
    "lon.mean()"
   ]
  },
  {
   "cell_type": "code",
   "execution_count": null,
   "id": "971a5925-1f36-49c7-b891-f137227ce3ed",
   "metadata": {},
   "outputs": [],
   "source": [
    "lat.mean()"
   ]
  },
  {
   "cell_type": "code",
   "execution_count": null,
   "id": "7d5ba1dd-1400-474f-ab13-01fdbebb5b7c",
   "metadata": {},
   "outputs": [],
   "source": [
    "ds_name = 'cams-europe-air-quality-forecasts'\n",
    "ds_time = '2022-01-01/2022-01-01'\n",
    "ds_variable = 'carbon_monoxide'    \n",
    "ds_area = NWSE_area\n",
    "ds_bounds = bounds\n",
    "\n",
    "[mean_data, latitude, longitude, rdata]= getMean.get_mean(ds_name=ds_name, ds_time=ds_time, ds_variable=ds_variable,ds_area=ds_area,ds_bounds=ds_bounds)"
   ]
  },
  {
   "cell_type": "code",
   "execution_count": null,
   "id": "dbacfd0e-8d33-49f0-86d1-a4bf62b6e212",
   "metadata": {},
   "outputs": [],
   "source": [
    "#pd.DataFrame(mean_data).to_csv(\"clipped23.csv\")"
   ]
  },
  {
   "cell_type": "code",
   "execution_count": null,
   "id": "a4fb0fc7-fe80-4157-86ff-0bd2c955e980",
   "metadata": {},
   "outputs": [],
   "source": [
    "mean_country = np.nanmean(mean_data)\n",
    "print(mean_country)\n",
    "type(mean_country)"
   ]
  },
  {
   "cell_type": "code",
   "execution_count": null,
   "id": "4d396870-0792-4722-a2c3-e4b22e2eef66",
   "metadata": {},
   "outputs": [],
   "source": [
    "mean_country.tolist()"
   ]
  },
  {
   "cell_type": "code",
   "execution_count": null,
   "id": "d85a2627-8050-4a62-9adf-102f5fd0e36f",
   "metadata": {},
   "outputs": [],
   "source": []
  },
  {
   "cell_type": "code",
   "execution_count": null,
   "id": "4e343697-89a9-4bdb-8961-a261a005ef1e",
   "metadata": {},
   "outputs": [],
   "source": []
  },
  {
   "cell_type": "code",
   "execution_count": null,
   "id": "059d8444-fe61-4ead-8866-2d683e69752d",
   "metadata": {},
   "outputs": [],
   "source": [
    "rdataAll = xr.open_dataset(\"2020_ozone_04_09.nc\")\n",
    "rdataAll"
   ]
  },
  {
   "cell_type": "code",
   "execution_count": null,
   "id": "f8d2281d-888b-42b9-9d1e-5d2236de2709",
   "metadata": {},
   "outputs": [],
   "source": [
    "rdata_values = rdataAll.o3_conc.values\n",
    "rdata_values.shape"
   ]
  },
  {
   "cell_type": "code",
   "execution_count": null,
   "id": "dcc527de-590f-49db-9e5f-172283fcdc3f",
   "metadata": {},
   "outputs": [],
   "source": []
  },
  {
   "cell_type": "code",
   "execution_count": null,
   "id": "fb4797a6-96cd-452a-8841-27d863f1d7e8",
   "metadata": {},
   "outputs": [],
   "source": []
  },
  {
   "cell_type": "code",
   "execution_count": null,
   "id": "f0e82a1b-78c7-48de-af5e-01778d1da6ff",
   "metadata": {},
   "outputs": [],
   "source": []
  },
  {
   "cell_type": "code",
   "execution_count": null,
   "id": "5f76c918-fe9e-490a-8d1e-805d5cbc1398",
   "metadata": {},
   "outputs": [],
   "source": [
    "rdata = rdataAll.sel(latitude=lat_centroid, longitude=lon_centroid, method='nearest')\n",
    "rdata"
   ]
  },
  {
   "cell_type": "code",
   "execution_count": null,
   "id": "246dc157-6109-40cc-96a2-13d3322db5db",
   "metadata": {},
   "outputs": [],
   "source": [
    "rdata.latitude"
   ]
  },
  {
   "cell_type": "code",
   "execution_count": null,
   "id": "15e0258e-806e-40ff-b8c9-a370aac7585b",
   "metadata": {},
   "outputs": [],
   "source": [
    "np.mean(rdata.co_conc.values,axis=0)"
   ]
  },
  {
   "cell_type": "code",
   "execution_count": null,
   "id": "09737e85-8868-4047-9982-f0e0c72c030b",
   "metadata": {},
   "outputs": [],
   "source": [
    "rdataAll.co_conc.values[0]"
   ]
  },
  {
   "cell_type": "code",
   "execution_count": null,
   "id": "e3774e5d-c355-41a1-a0ad-9b904c433193",
   "metadata": {},
   "outputs": [],
   "source": []
  },
  {
   "cell_type": "markdown",
   "id": "f13fb19d-63ae-4a64-82d0-40546711063d",
   "metadata": {},
   "source": [
    "# 时间 datetime to string, add days, string to datetime"
   ]
  },
  {
   "cell_type": "code",
   "execution_count": null,
   "id": "1f21c9dc-5148-43d4-b66f-309c05a22131",
   "metadata": {},
   "outputs": [],
   "source": [
    "import datetime\n",
    "\n",
    "s = '2020-01-31'\n",
    "s1 = (datetime.datetime.strptime(s,'%Y-%m-%d').date() + datetime.timedelta(days=1)).strftime('%Y-%m-%d')\n",
    "s1"
   ]
  },
  {
   "cell_type": "code",
   "execution_count": null,
   "id": "01f77548-8ad7-4d6b-b8c4-8496c7c4feee",
   "metadata": {},
   "outputs": [],
   "source": [
    "s + '/' + s1"
   ]
  },
  {
   "cell_type": "markdown",
   "id": "0f428358-12ae-4b10-a887-59bab58d9d32",
   "metadata": {},
   "source": [
    "# 检查一年12个月的数据为什么会多一天"
   ]
  },
  {
   "cell_type": "code",
   "execution_count": null,
   "id": "ad35f978-1f48-4c7f-aae8-a82d9dbd3af5",
   "metadata": {},
   "outputs": [],
   "source": [
    "rdata = xr.open_dataset(\"F:\\\\NCFILE\\\\2020_nitrogen_dioxide_12.nc\")\n",
    "rdata\n",
    "# 1(744),3,5,7,8,10,12 月 正常\n",
    "# 2(696) 月 正常\n",
    "# 4(720),6,9,11 月 正常"
   ]
  },
  {
   "cell_type": "code",
   "execution_count": null,
   "id": "0aebe338-1732-4b56-8ec2-8f7833635492",
   "metadata": {},
   "outputs": [],
   "source": [
    "rdataAll = xr.open_mfdataset('F:\\\\NCFILE\\\\2020_nitrogen_dioxide' + '*.nc',combine='nested', concat_dim='time')\n",
    "rdataAll"
   ]
  },
  {
   "cell_type": "markdown",
   "id": "ce8b54fd-2fb4-4805-928d-a8ed0f2b8e89",
   "metadata": {},
   "source": [
    "# 检查ozone的天数据处理"
   ]
  },
  {
   "cell_type": "code",
   "execution_count": 2,
   "id": "6820b0b6-e13b-4555-9283-b54d57235ba6",
   "metadata": {},
   "outputs": [
    {
     "data": {
      "text/html": [
       "<div><svg style=\"position: absolute; width: 0; height: 0; overflow: hidden\">\n",
       "<defs>\n",
       "<symbol id=\"icon-database\" viewBox=\"0 0 32 32\">\n",
       "<path d=\"M16 0c-8.837 0-16 2.239-16 5v4c0 2.761 7.163 5 16 5s16-2.239 16-5v-4c0-2.761-7.163-5-16-5z\"></path>\n",
       "<path d=\"M16 17c-8.837 0-16-2.239-16-5v6c0 2.761 7.163 5 16 5s16-2.239 16-5v-6c0 2.761-7.163 5-16 5z\"></path>\n",
       "<path d=\"M16 26c-8.837 0-16-2.239-16-5v6c0 2.761 7.163 5 16 5s16-2.239 16-5v-6c0 2.761-7.163 5-16 5z\"></path>\n",
       "</symbol>\n",
       "<symbol id=\"icon-file-text2\" viewBox=\"0 0 32 32\">\n",
       "<path d=\"M28.681 7.159c-0.694-0.947-1.662-2.053-2.724-3.116s-2.169-2.030-3.116-2.724c-1.612-1.182-2.393-1.319-2.841-1.319h-15.5c-1.378 0-2.5 1.121-2.5 2.5v27c0 1.378 1.122 2.5 2.5 2.5h23c1.378 0 2.5-1.122 2.5-2.5v-19.5c0-0.448-0.137-1.23-1.319-2.841zM24.543 5.457c0.959 0.959 1.712 1.825 2.268 2.543h-4.811v-4.811c0.718 0.556 1.584 1.309 2.543 2.268zM28 29.5c0 0.271-0.229 0.5-0.5 0.5h-23c-0.271 0-0.5-0.229-0.5-0.5v-27c0-0.271 0.229-0.5 0.5-0.5 0 0 15.499-0 15.5 0v7c0 0.552 0.448 1 1 1h7v19.5z\"></path>\n",
       "<path d=\"M23 26h-14c-0.552 0-1-0.448-1-1s0.448-1 1-1h14c0.552 0 1 0.448 1 1s-0.448 1-1 1z\"></path>\n",
       "<path d=\"M23 22h-14c-0.552 0-1-0.448-1-1s0.448-1 1-1h14c0.552 0 1 0.448 1 1s-0.448 1-1 1z\"></path>\n",
       "<path d=\"M23 18h-14c-0.552 0-1-0.448-1-1s0.448-1 1-1h14c0.552 0 1 0.448 1 1s-0.448 1-1 1z\"></path>\n",
       "</symbol>\n",
       "</defs>\n",
       "</svg>\n",
       "<style>/* CSS stylesheet for displaying xarray objects in jupyterlab.\n",
       " *\n",
       " */\n",
       "\n",
       ":root {\n",
       "  --xr-font-color0: var(--jp-content-font-color0, rgba(0, 0, 0, 1));\n",
       "  --xr-font-color2: var(--jp-content-font-color2, rgba(0, 0, 0, 0.54));\n",
       "  --xr-font-color3: var(--jp-content-font-color3, rgba(0, 0, 0, 0.38));\n",
       "  --xr-border-color: var(--jp-border-color2, #e0e0e0);\n",
       "  --xr-disabled-color: var(--jp-layout-color3, #bdbdbd);\n",
       "  --xr-background-color: var(--jp-layout-color0, white);\n",
       "  --xr-background-color-row-even: var(--jp-layout-color1, white);\n",
       "  --xr-background-color-row-odd: var(--jp-layout-color2, #eeeeee);\n",
       "}\n",
       "\n",
       "html[theme=dark],\n",
       "body.vscode-dark {\n",
       "  --xr-font-color0: rgba(255, 255, 255, 1);\n",
       "  --xr-font-color2: rgba(255, 255, 255, 0.54);\n",
       "  --xr-font-color3: rgba(255, 255, 255, 0.38);\n",
       "  --xr-border-color: #1F1F1F;\n",
       "  --xr-disabled-color: #515151;\n",
       "  --xr-background-color: #111111;\n",
       "  --xr-background-color-row-even: #111111;\n",
       "  --xr-background-color-row-odd: #313131;\n",
       "}\n",
       "\n",
       ".xr-wrap {\n",
       "  display: block !important;\n",
       "  min-width: 300px;\n",
       "  max-width: 700px;\n",
       "}\n",
       "\n",
       ".xr-text-repr-fallback {\n",
       "  /* fallback to plain text repr when CSS is not injected (untrusted notebook) */\n",
       "  display: none;\n",
       "}\n",
       "\n",
       ".xr-header {\n",
       "  padding-top: 6px;\n",
       "  padding-bottom: 6px;\n",
       "  margin-bottom: 4px;\n",
       "  border-bottom: solid 1px var(--xr-border-color);\n",
       "}\n",
       "\n",
       ".xr-header > div,\n",
       ".xr-header > ul {\n",
       "  display: inline;\n",
       "  margin-top: 0;\n",
       "  margin-bottom: 0;\n",
       "}\n",
       "\n",
       ".xr-obj-type,\n",
       ".xr-array-name {\n",
       "  margin-left: 2px;\n",
       "  margin-right: 10px;\n",
       "}\n",
       "\n",
       ".xr-obj-type {\n",
       "  color: var(--xr-font-color2);\n",
       "}\n",
       "\n",
       ".xr-sections {\n",
       "  padding-left: 0 !important;\n",
       "  display: grid;\n",
       "  grid-template-columns: 150px auto auto 1fr 20px 20px;\n",
       "}\n",
       "\n",
       ".xr-section-item {\n",
       "  display: contents;\n",
       "}\n",
       "\n",
       ".xr-section-item input {\n",
       "  display: none;\n",
       "}\n",
       "\n",
       ".xr-section-item input + label {\n",
       "  color: var(--xr-disabled-color);\n",
       "}\n",
       "\n",
       ".xr-section-item input:enabled + label {\n",
       "  cursor: pointer;\n",
       "  color: var(--xr-font-color2);\n",
       "}\n",
       "\n",
       ".xr-section-item input:enabled + label:hover {\n",
       "  color: var(--xr-font-color0);\n",
       "}\n",
       "\n",
       ".xr-section-summary {\n",
       "  grid-column: 1;\n",
       "  color: var(--xr-font-color2);\n",
       "  font-weight: 500;\n",
       "}\n",
       "\n",
       ".xr-section-summary > span {\n",
       "  display: inline-block;\n",
       "  padding-left: 0.5em;\n",
       "}\n",
       "\n",
       ".xr-section-summary-in:disabled + label {\n",
       "  color: var(--xr-font-color2);\n",
       "}\n",
       "\n",
       ".xr-section-summary-in + label:before {\n",
       "  display: inline-block;\n",
       "  content: '►';\n",
       "  font-size: 11px;\n",
       "  width: 15px;\n",
       "  text-align: center;\n",
       "}\n",
       "\n",
       ".xr-section-summary-in:disabled + label:before {\n",
       "  color: var(--xr-disabled-color);\n",
       "}\n",
       "\n",
       ".xr-section-summary-in:checked + label:before {\n",
       "  content: '▼';\n",
       "}\n",
       "\n",
       ".xr-section-summary-in:checked + label > span {\n",
       "  display: none;\n",
       "}\n",
       "\n",
       ".xr-section-summary,\n",
       ".xr-section-inline-details {\n",
       "  padding-top: 4px;\n",
       "  padding-bottom: 4px;\n",
       "}\n",
       "\n",
       ".xr-section-inline-details {\n",
       "  grid-column: 2 / -1;\n",
       "}\n",
       "\n",
       ".xr-section-details {\n",
       "  display: none;\n",
       "  grid-column: 1 / -1;\n",
       "  margin-bottom: 5px;\n",
       "}\n",
       "\n",
       ".xr-section-summary-in:checked ~ .xr-section-details {\n",
       "  display: contents;\n",
       "}\n",
       "\n",
       ".xr-array-wrap {\n",
       "  grid-column: 1 / -1;\n",
       "  display: grid;\n",
       "  grid-template-columns: 20px auto;\n",
       "}\n",
       "\n",
       ".xr-array-wrap > label {\n",
       "  grid-column: 1;\n",
       "  vertical-align: top;\n",
       "}\n",
       "\n",
       ".xr-preview {\n",
       "  color: var(--xr-font-color3);\n",
       "}\n",
       "\n",
       ".xr-array-preview,\n",
       ".xr-array-data {\n",
       "  padding: 0 5px !important;\n",
       "  grid-column: 2;\n",
       "}\n",
       "\n",
       ".xr-array-data,\n",
       ".xr-array-in:checked ~ .xr-array-preview {\n",
       "  display: none;\n",
       "}\n",
       "\n",
       ".xr-array-in:checked ~ .xr-array-data,\n",
       ".xr-array-preview {\n",
       "  display: inline-block;\n",
       "}\n",
       "\n",
       ".xr-dim-list {\n",
       "  display: inline-block !important;\n",
       "  list-style: none;\n",
       "  padding: 0 !important;\n",
       "  margin: 0;\n",
       "}\n",
       "\n",
       ".xr-dim-list li {\n",
       "  display: inline-block;\n",
       "  padding: 0;\n",
       "  margin: 0;\n",
       "}\n",
       "\n",
       ".xr-dim-list:before {\n",
       "  content: '(';\n",
       "}\n",
       "\n",
       ".xr-dim-list:after {\n",
       "  content: ')';\n",
       "}\n",
       "\n",
       ".xr-dim-list li:not(:last-child):after {\n",
       "  content: ',';\n",
       "  padding-right: 5px;\n",
       "}\n",
       "\n",
       ".xr-has-index {\n",
       "  font-weight: bold;\n",
       "}\n",
       "\n",
       ".xr-var-list,\n",
       ".xr-var-item {\n",
       "  display: contents;\n",
       "}\n",
       "\n",
       ".xr-var-item > div,\n",
       ".xr-var-item label,\n",
       ".xr-var-item > .xr-var-name span {\n",
       "  background-color: var(--xr-background-color-row-even);\n",
       "  margin-bottom: 0;\n",
       "}\n",
       "\n",
       ".xr-var-item > .xr-var-name:hover span {\n",
       "  padding-right: 5px;\n",
       "}\n",
       "\n",
       ".xr-var-list > li:nth-child(odd) > div,\n",
       ".xr-var-list > li:nth-child(odd) > label,\n",
       ".xr-var-list > li:nth-child(odd) > .xr-var-name span {\n",
       "  background-color: var(--xr-background-color-row-odd);\n",
       "}\n",
       "\n",
       ".xr-var-name {\n",
       "  grid-column: 1;\n",
       "}\n",
       "\n",
       ".xr-var-dims {\n",
       "  grid-column: 2;\n",
       "}\n",
       "\n",
       ".xr-var-dtype {\n",
       "  grid-column: 3;\n",
       "  text-align: right;\n",
       "  color: var(--xr-font-color2);\n",
       "}\n",
       "\n",
       ".xr-var-preview {\n",
       "  grid-column: 4;\n",
       "}\n",
       "\n",
       ".xr-var-name,\n",
       ".xr-var-dims,\n",
       ".xr-var-dtype,\n",
       ".xr-preview,\n",
       ".xr-attrs dt {\n",
       "  white-space: nowrap;\n",
       "  overflow: hidden;\n",
       "  text-overflow: ellipsis;\n",
       "  padding-right: 10px;\n",
       "}\n",
       "\n",
       ".xr-var-name:hover,\n",
       ".xr-var-dims:hover,\n",
       ".xr-var-dtype:hover,\n",
       ".xr-attrs dt:hover {\n",
       "  overflow: visible;\n",
       "  width: auto;\n",
       "  z-index: 1;\n",
       "}\n",
       "\n",
       ".xr-var-attrs,\n",
       ".xr-var-data {\n",
       "  display: none;\n",
       "  background-color: var(--xr-background-color) !important;\n",
       "  padding-bottom: 5px !important;\n",
       "}\n",
       "\n",
       ".xr-var-attrs-in:checked ~ .xr-var-attrs,\n",
       ".xr-var-data-in:checked ~ .xr-var-data {\n",
       "  display: block;\n",
       "}\n",
       "\n",
       ".xr-var-data > table {\n",
       "  float: right;\n",
       "}\n",
       "\n",
       ".xr-var-name span,\n",
       ".xr-var-data,\n",
       ".xr-attrs {\n",
       "  padding-left: 25px !important;\n",
       "}\n",
       "\n",
       ".xr-attrs,\n",
       ".xr-var-attrs,\n",
       ".xr-var-data {\n",
       "  grid-column: 1 / -1;\n",
       "}\n",
       "\n",
       "dl.xr-attrs {\n",
       "  padding: 0;\n",
       "  margin: 0;\n",
       "  display: grid;\n",
       "  grid-template-columns: 125px auto;\n",
       "}\n",
       "\n",
       ".xr-attrs dt,\n",
       ".xr-attrs dd {\n",
       "  padding: 0;\n",
       "  margin: 0;\n",
       "  float: left;\n",
       "  padding-right: 10px;\n",
       "  width: auto;\n",
       "}\n",
       "\n",
       ".xr-attrs dt {\n",
       "  font-weight: normal;\n",
       "  grid-column: 1;\n",
       "}\n",
       "\n",
       ".xr-attrs dt:hover span {\n",
       "  display: inline-block;\n",
       "  background: var(--xr-background-color);\n",
       "  padding-right: 10px;\n",
       "}\n",
       "\n",
       ".xr-attrs dd {\n",
       "  grid-column: 2;\n",
       "  white-space: pre-wrap;\n",
       "  word-break: break-all;\n",
       "}\n",
       "\n",
       ".xr-icon-database,\n",
       ".xr-icon-file-text2 {\n",
       "  display: inline-block;\n",
       "  vertical-align: middle;\n",
       "  width: 1em;\n",
       "  height: 1.5em !important;\n",
       "  stroke-width: 0;\n",
       "  stroke: currentColor;\n",
       "  fill: currentColor;\n",
       "}\n",
       "</style><pre class='xr-text-repr-fallback'>&lt;xarray.Dataset&gt;\n",
       "Dimensions:    (longitude: 29, latitude: 19, level: 1, time: 48)\n",
       "Coordinates:\n",
       "  * longitude  (longitude) float32 8.55 8.65 8.75 8.85 ... 11.15 11.25 11.35\n",
       "  * latitude   (latitude) float32 46.55 46.45 46.35 46.25 ... 44.95 44.85 44.75\n",
       "  * level      (level) float32 0.0\n",
       "  * time       (time) timedelta64[ns] 00:00:00 01:00:00 ... 1 days 23:00:00\n",
       "Data variables:\n",
       "    o3_conc    (time, level, latitude, longitude) float32 66.6 66.79 ... 3.507\n",
       "Attributes:\n",
       "    title:        O3 Air Pollutant ANALYSIS at the Surface\n",
       "    institution:  Data produced by Meteo France\n",
       "    source:       Data from ENSEMBLE model\n",
       "    history:      Model ENSEMBLE ANALYSIS\n",
       "    ANALYSIS:     Europe, 20200101-20200102+[0H_23H]\n",
       "    summary:      ENSEMBLE model hourly ANALYSIS of O3 concentration at the S...\n",
       "    project:      MACC-RAQ (http://macc-raq.gmes-atmosphere.eu)</pre><div class='xr-wrap' style='display:none'><div class='xr-header'><div class='xr-obj-type'>xarray.Dataset</div></div><ul class='xr-sections'><li class='xr-section-item'><input id='section-a12cc36c-0953-47fe-8c82-0a3d2df44cdb' class='xr-section-summary-in' type='checkbox' disabled ><label for='section-a12cc36c-0953-47fe-8c82-0a3d2df44cdb' class='xr-section-summary'  title='Expand/collapse section'>Dimensions:</label><div class='xr-section-inline-details'><ul class='xr-dim-list'><li><span class='xr-has-index'>longitude</span>: 29</li><li><span class='xr-has-index'>latitude</span>: 19</li><li><span class='xr-has-index'>level</span>: 1</li><li><span class='xr-has-index'>time</span>: 48</li></ul></div><div class='xr-section-details'></div></li><li class='xr-section-item'><input id='section-fbf266ba-bf14-465a-9695-257019f38c38' class='xr-section-summary-in' type='checkbox'  checked><label for='section-fbf266ba-bf14-465a-9695-257019f38c38' class='xr-section-summary' >Coordinates: <span>(4)</span></label><div class='xr-section-inline-details'></div><div class='xr-section-details'><ul class='xr-var-list'><li class='xr-var-item'><div class='xr-var-name'><span class='xr-has-index'>longitude</span></div><div class='xr-var-dims'>(longitude)</div><div class='xr-var-dtype'>float32</div><div class='xr-var-preview xr-preview'>8.55 8.65 8.75 ... 11.25 11.35</div><input id='attrs-f7322fd3-35a0-4b84-ab49-02a9204ebee7' class='xr-var-attrs-in' type='checkbox' ><label for='attrs-f7322fd3-35a0-4b84-ab49-02a9204ebee7' title='Show/Hide attributes'><svg class='icon xr-icon-file-text2'><use xlink:href='#icon-file-text2'></use></svg></label><input id='data-63bd0779-17e9-4c1c-9b5c-325a8319e774' class='xr-var-data-in' type='checkbox'><label for='data-63bd0779-17e9-4c1c-9b5c-325a8319e774' title='Show/Hide data repr'><svg class='icon xr-icon-database'><use xlink:href='#icon-database'></use></svg></label><div class='xr-var-attrs'><dl class='xr-attrs'><dt><span>long_name :</span></dt><dd>longitude</dd><dt><span>units :</span></dt><dd>degrees_east</dd></dl></div><div class='xr-var-data'><pre>array([ 8.55,  8.65,  8.75,  8.85,  8.95,  9.05,  9.15,  9.25,  9.35,  9.45,\n",
       "        9.55,  9.65,  9.75,  9.85,  9.95, 10.05, 10.15, 10.25, 10.35, 10.45,\n",
       "       10.55, 10.65, 10.75, 10.85, 10.95, 11.05, 11.15, 11.25, 11.35],\n",
       "      dtype=float32)</pre></div></li><li class='xr-var-item'><div class='xr-var-name'><span class='xr-has-index'>latitude</span></div><div class='xr-var-dims'>(latitude)</div><div class='xr-var-dtype'>float32</div><div class='xr-var-preview xr-preview'>46.55 46.45 46.35 ... 44.85 44.75</div><input id='attrs-ca201b05-8a13-49ed-a474-f708531e37cf' class='xr-var-attrs-in' type='checkbox' ><label for='attrs-ca201b05-8a13-49ed-a474-f708531e37cf' title='Show/Hide attributes'><svg class='icon xr-icon-file-text2'><use xlink:href='#icon-file-text2'></use></svg></label><input id='data-8df2387b-5d56-478b-9908-2ae1588d9721' class='xr-var-data-in' type='checkbox'><label for='data-8df2387b-5d56-478b-9908-2ae1588d9721' title='Show/Hide data repr'><svg class='icon xr-icon-database'><use xlink:href='#icon-database'></use></svg></label><div class='xr-var-attrs'><dl class='xr-attrs'><dt><span>long_name :</span></dt><dd>latitude</dd><dt><span>units :</span></dt><dd>degrees_north</dd></dl></div><div class='xr-var-data'><pre>array([46.55, 46.45, 46.35, 46.25, 46.15, 46.05, 45.95, 45.85, 45.75, 45.65,\n",
       "       45.55, 45.45, 45.35, 45.25, 45.15, 45.05, 44.95, 44.85, 44.75],\n",
       "      dtype=float32)</pre></div></li><li class='xr-var-item'><div class='xr-var-name'><span class='xr-has-index'>level</span></div><div class='xr-var-dims'>(level)</div><div class='xr-var-dtype'>float32</div><div class='xr-var-preview xr-preview'>0.0</div><input id='attrs-34bff11a-b825-4f94-a9e3-adf729396dba' class='xr-var-attrs-in' type='checkbox' ><label for='attrs-34bff11a-b825-4f94-a9e3-adf729396dba' title='Show/Hide attributes'><svg class='icon xr-icon-file-text2'><use xlink:href='#icon-file-text2'></use></svg></label><input id='data-d3fe378b-4d1a-45ea-a4a4-da7d3dd509c8' class='xr-var-data-in' type='checkbox'><label for='data-d3fe378b-4d1a-45ea-a4a4-da7d3dd509c8' title='Show/Hide data repr'><svg class='icon xr-icon-database'><use xlink:href='#icon-database'></use></svg></label><div class='xr-var-attrs'><dl class='xr-attrs'><dt><span>long_name :</span></dt><dd>level</dd><dt><span>units :</span></dt><dd>m</dd></dl></div><div class='xr-var-data'><pre>array([0.], dtype=float32)</pre></div></li><li class='xr-var-item'><div class='xr-var-name'><span class='xr-has-index'>time</span></div><div class='xr-var-dims'>(time)</div><div class='xr-var-dtype'>timedelta64[ns]</div><div class='xr-var-preview xr-preview'>00:00:00 ... 1 days 23:00:00</div><input id='attrs-8607c075-8ec1-479b-b4dd-77987b61fe99' class='xr-var-attrs-in' type='checkbox' ><label for='attrs-8607c075-8ec1-479b-b4dd-77987b61fe99' title='Show/Hide attributes'><svg class='icon xr-icon-file-text2'><use xlink:href='#icon-file-text2'></use></svg></label><input id='data-218139ce-8b60-43a3-8df1-4bee406357ae' class='xr-var-data-in' type='checkbox'><label for='data-218139ce-8b60-43a3-8df1-4bee406357ae' title='Show/Hide data repr'><svg class='icon xr-icon-database'><use xlink:href='#icon-database'></use></svg></label><div class='xr-var-attrs'><dl class='xr-attrs'><dt><span>long_name :</span></dt><dd>ANALYSIS time from 20200101</dd></dl></div><div class='xr-var-data'><pre>array([              0,   3600000000000,   7200000000000,  10800000000000,\n",
       "        14400000000000,  18000000000000,  21600000000000,  25200000000000,\n",
       "        28800000000000,  32400000000000,  36000000000000,  39600000000000,\n",
       "        43200000000000,  46800000000000,  50400000000000,  54000000000000,\n",
       "        57600000000000,  61200000000000,  64800000000000,  68400000000000,\n",
       "        72000000000000,  75600000000000,  79200000000000,  82800000000000,\n",
       "        86400000000000,  90000000000000,  93600000000000,  97200000000000,\n",
       "       100800000000000, 104400000000000, 108000000000000, 111600000000000,\n",
       "       115200000000000, 118800000000000, 122400000000000, 126000000000000,\n",
       "       129600000000000, 133200000000000, 136800000000000, 140400000000000,\n",
       "       144000000000000, 147600000000000, 151200000000000, 154800000000000,\n",
       "       158400000000000, 162000000000000, 165600000000000, 169200000000000],\n",
       "      dtype=&#x27;timedelta64[ns]&#x27;)</pre></div></li></ul></div></li><li class='xr-section-item'><input id='section-fd4abbbf-f762-4385-a11c-c66a2ec6b1f4' class='xr-section-summary-in' type='checkbox'  checked><label for='section-fd4abbbf-f762-4385-a11c-c66a2ec6b1f4' class='xr-section-summary' >Data variables: <span>(1)</span></label><div class='xr-section-inline-details'></div><div class='xr-section-details'><ul class='xr-var-list'><li class='xr-var-item'><div class='xr-var-name'><span>o3_conc</span></div><div class='xr-var-dims'>(time, level, latitude, longitude)</div><div class='xr-var-dtype'>float32</div><div class='xr-var-preview xr-preview'>...</div><input id='attrs-82b9c9a0-a04e-468a-8806-5d0660e86102' class='xr-var-attrs-in' type='checkbox' ><label for='attrs-82b9c9a0-a04e-468a-8806-5d0660e86102' title='Show/Hide attributes'><svg class='icon xr-icon-file-text2'><use xlink:href='#icon-file-text2'></use></svg></label><input id='data-41512dcc-8c66-4db7-b04b-c8d949af8c72' class='xr-var-data-in' type='checkbox'><label for='data-41512dcc-8c66-4db7-b04b-c8d949af8c72' title='Show/Hide data repr'><svg class='icon xr-icon-database'><use xlink:href='#icon-database'></use></svg></label><div class='xr-var-attrs'><dl class='xr-attrs'><dt><span>species :</span></dt><dd>Ozone</dd><dt><span>units :</span></dt><dd>µg/m3</dd><dt><span>value :</span></dt><dd>hourly values</dd><dt><span>standard_name :</span></dt><dd>mass_concentration_of_ozone_in_air</dd></dl></div><div class='xr-var-data'><pre>array([[[[66.60199 , ..., 52.200207],\n",
       "         ...,\n",
       "         [32.854584, ...,  3.733495]]],\n",
       "\n",
       "\n",
       "       ...,\n",
       "\n",
       "\n",
       "       [[[72.072914, ..., 48.831375],\n",
       "         ...,\n",
       "         [11.815887, ...,  3.506957]]]], dtype=float32)</pre></div></li></ul></div></li><li class='xr-section-item'><input id='section-d9671d2b-e868-4e85-b046-992ed3a3cd2e' class='xr-section-summary-in' type='checkbox'  checked><label for='section-d9671d2b-e868-4e85-b046-992ed3a3cd2e' class='xr-section-summary' >Attributes: <span>(7)</span></label><div class='xr-section-inline-details'></div><div class='xr-section-details'><dl class='xr-attrs'><dt><span>title :</span></dt><dd>O3 Air Pollutant ANALYSIS at the Surface</dd><dt><span>institution :</span></dt><dd>Data produced by Meteo France</dd><dt><span>source :</span></dt><dd>Data from ENSEMBLE model</dd><dt><span>history :</span></dt><dd>Model ENSEMBLE ANALYSIS</dd><dt><span>ANALYSIS :</span></dt><dd>Europe, 20200101-20200102+[0H_23H]</dd><dt><span>summary :</span></dt><dd>ENSEMBLE model hourly ANALYSIS of O3 concentration at the Surface from 20200101-20200102+[0H_23H] on Europe</dd><dt><span>project :</span></dt><dd>MACC-RAQ (http://macc-raq.gmes-atmosphere.eu)</dd></dl></div></li></ul></div></div>"
      ],
      "text/plain": [
       "<xarray.Dataset>\n",
       "Dimensions:    (longitude: 29, latitude: 19, level: 1, time: 48)\n",
       "Coordinates:\n",
       "  * longitude  (longitude) float32 8.55 8.65 8.75 8.85 ... 11.15 11.25 11.35\n",
       "  * latitude   (latitude) float32 46.55 46.45 46.35 46.25 ... 44.95 44.85 44.75\n",
       "  * level      (level) float32 0.0\n",
       "  * time       (time) timedelta64[ns] 00:00:00 01:00:00 ... 1 days 23:00:00\n",
       "Data variables:\n",
       "    o3_conc    (time, level, latitude, longitude) float32 ...\n",
       "Attributes:\n",
       "    title:        O3 Air Pollutant ANALYSIS at the Surface\n",
       "    institution:  Data produced by Meteo France\n",
       "    source:       Data from ENSEMBLE model\n",
       "    history:      Model ENSEMBLE ANALYSIS\n",
       "    ANALYSIS:     Europe, 20200101-20200102+[0H_23H]\n",
       "    summary:      ENSEMBLE model hourly ANALYSIS of O3 concentration at the S...\n",
       "    project:      MACC-RAQ (http://macc-raq.gmes-atmosphere.eu)"
      ]
     },
     "execution_count": 2,
     "metadata": {},
     "output_type": "execute_result"
    }
   ],
   "source": [
    "rdata = xr.open_dataset(\"ozone2020010120200102.nc\")\n",
    "rdata"
   ]
  },
  {
   "cell_type": "code",
   "execution_count": 20,
   "id": "1af6a481-6c11-4793-92c4-27d8bccf867f",
   "metadata": {},
   "outputs": [],
   "source": [
    "rdata_values = rdata.o3_conc.values"
   ]
  },
  {
   "cell_type": "code",
   "execution_count": 35,
   "id": "2d0883b9-3b1e-43bf-b128-76af6000cb72",
   "metadata": {},
   "outputs": [
    {
     "data": {
      "text/plain": [
       "(48, 1, 19, 29)"
      ]
     },
     "execution_count": 35,
     "metadata": {},
     "output_type": "execute_result"
    }
   ],
   "source": [
    "rdata_values.shape"
   ]
  },
  {
   "cell_type": "code",
   "execution_count": 21,
   "id": "6d35ecaa-d9b8-484f-a84a-b4cee12feafb",
   "metadata": {},
   "outputs": [
    {
     "data": {
      "text/plain": [
       "(8, 1, 19, 29)"
      ]
     },
     "execution_count": 21,
     "metadata": {},
     "output_type": "execute_result"
    }
   ],
   "source": [
    "rdata_values[7:15, :, :, :].shape"
   ]
  },
  {
   "cell_type": "code",
   "execution_count": 22,
   "id": "85dad31f-3d3c-4904-ae6f-cfab5ad95c61",
   "metadata": {},
   "outputs": [
    {
     "data": {
      "text/plain": [
       "(1, 19, 29)"
      ]
     },
     "execution_count": 22,
     "metadata": {},
     "output_type": "execute_result"
    }
   ],
   "source": [
    "np.mean(rdata_values[7:15, :, :, :], axis=0).shape"
   ]
  },
  {
   "cell_type": "code",
   "execution_count": 24,
   "id": "c3cb94ac-aa7f-444b-99f2-fdc1e98c8547",
   "metadata": {},
   "outputs": [],
   "source": [
    "H = []\n",
    "for k in range(17):\n",
    "    start_k = 7 + k\n",
    "    end_k = 15 + k\n",
    "    h = np.mean(rdata_values[start_k:end_k, :, :, :], axis=0)\n",
    "    H.append(h)"
   ]
  },
  {
   "cell_type": "code",
   "execution_count": 27,
   "id": "d914e131-8c63-4598-8dc6-ed53b2d48b6e",
   "metadata": {},
   "outputs": [
    {
     "data": {
      "text/plain": [
       "(17, 1, 19, 29)"
      ]
     },
     "execution_count": 27,
     "metadata": {},
     "output_type": "execute_result"
    }
   ],
   "source": [
    "H = np.array(H)\n",
    "H.shape"
   ]
  },
  {
   "cell_type": "code",
   "execution_count": 32,
   "id": "3a74bb72-c113-4ac5-9358-9e56d4a7e684",
   "metadata": {},
   "outputs": [
    {
     "data": {
      "text/plain": [
       "(1, 19, 29)"
      ]
     },
     "execution_count": 32,
     "metadata": {},
     "output_type": "execute_result"
    }
   ],
   "source": [
    "max_mean = np.mean(H, axis=0)\n",
    "max_mean.shape"
   ]
  },
  {
   "cell_type": "code",
   "execution_count": 34,
   "id": "c2b4b7e9-fce7-4130-9b51-3757a129aa4d",
   "metadata": {},
   "outputs": [
    {
     "data": {
      "text/plain": [
       "34.211697"
      ]
     },
     "execution_count": 34,
     "metadata": {},
     "output_type": "execute_result"
    }
   ],
   "source": [
    "mean_data = np.mean(max_mean)\n",
    "mean_data"
   ]
  },
  {
   "cell_type": "code",
   "execution_count": null,
   "id": "27f03870-db35-4745-abd9-2cca3166d06f",
   "metadata": {},
   "outputs": [],
   "source": []
  }
 ],
 "metadata": {
  "kernelspec": {
   "display_name": "Python 3 (ipykernel)",
   "language": "python",
   "name": "python3"
  },
  "language_info": {
   "codemirror_mode": {
    "name": "ipython",
    "version": 3
   },
   "file_extension": ".py",
   "mimetype": "text/x-python",
   "name": "python",
   "nbconvert_exporter": "python",
   "pygments_lexer": "ipython3",
   "version": "3.7.12"
  }
 },
 "nbformat": 4,
 "nbformat_minor": 5
}
