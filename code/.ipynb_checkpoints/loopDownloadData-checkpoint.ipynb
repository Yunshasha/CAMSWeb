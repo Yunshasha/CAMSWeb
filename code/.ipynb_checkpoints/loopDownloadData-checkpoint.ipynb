{
 "cells": [
  {
   "cell_type": "code",
   "execution_count": 5,
   "id": "ce61823a-1396-42b3-96f8-08f6eb45a722",
   "metadata": {},
   "outputs": [],
   "source": [
    "import matplotlib.pyplot as plt\n",
    "import pandas as pd\n",
    "import geopandas as gpd\n",
    "import contextily as ctx\n",
    "import numpy as np\n",
    "import xarray as xr\n",
    "from shapely.geometry import mapping\n",
    "import cdsapi\n",
    "import downloadYear\n",
    "import os\n",
    "import re"
   ]
  },
  {
   "cell_type": "markdown",
   "id": "2727e369-e9ec-467a-8111-81299d1e7378",
   "metadata": {},
   "source": [
    "# 普通下载 不使用py脚本下载一年的数据"
   ]
  },
  {
   "cell_type": "code",
   "execution_count": null,
   "id": "0cdf6a6a-2225-4a1f-9b64-f32a505bd2db",
   "metadata": {},
   "outputs": [],
   "source": [
    "# change the date values to download what you want\n",
    "\n",
    "years = ['2020']\n",
    "\n",
    "months = ['01','02','03','04','05','06','07','08','09','10','11','12']#\n",
    "\n",
    "month_with_days_30 = ['04','06','09','11']\n",
    "month_with_days_31 = ['01','03','05','07','08','10','12']\n",
    "\n",
    "# days_28 = ['01', '02', '03', '04', '05', '06', '07', '08', '09', '10', \n",
    "#            '11', '12', '13', '14', '15', '16', '17', '18', '19', '20', \n",
    "#            '21', '22', '23', '24', '25', '26', '27', '28',]\n",
    "\n",
    "# days_29 = ['01', '02', '03', '04', '05', '06', '07', '08', '09', '10', \n",
    "#            '11', '12', '13', '14', '15', '16', '17', '18', '19', '20', \n",
    "#            '21', '22', '23', '24', '25', '26', '27', '28','29',]\n",
    "\n",
    "# days_30 =  ['01', '02', '03', '04', '05', '06', '07', '08', '09', '10',\n",
    "#             '11', '12', '13', '14', '15', '16', '17', '18', '19', '20',\n",
    "#             '21', '22', '23', '24', '25', '26', '27', '28', '29', '30',]\n",
    "\n",
    "# days_31 = ['01', '02', '03', '04', '05', '06', '07', '08', '09', '10',\n",
    "#            '11', '12', '13', '14', '15', '16', '17', '18', '19', '20', \n",
    "#            '21', '22', '23', '24', '25', '26', '27', '28', '29', '30', \n",
    "#            '31',]\n",
    "\n",
    "filePath = 'F:\\\\NCFILE\\\\'"
   ]
  },
  {
   "cell_type": "code",
   "execution_count": null,
   "id": "58ec6998-fd3b-42d2-ae41-951308979665",
   "metadata": {},
   "outputs": [],
   "source": [
    "def downloadOriginalFile(my_year,my_month,filePath,myDate):\n",
    "    fileName = 'CAMS_' + my_year+my_month +'_1month.nc'\n",
    "    \n",
    "    c = cdsapi.Client()\n",
    "    c.retrieve(\n",
    "    'cams-europe-air-quality-forecasts',\n",
    "    {\n",
    "        'variable': 'nitrogen_dioxide',\n",
    "        'model': 'ensemble',\n",
    "        'level': '0',\n",
    "        'date': myDate,\n",
    "        'type': 'analysis',\n",
    "        'time': [\n",
    "            '00:00', '01:00', '02:00',\n",
    "            '03:00', '04:00', '05:00',\n",
    "            '06:00', '07:00', '08:00',\n",
    "            '09:00', '10:00', '11:00',\n",
    "            '12:00', '13:00', '14:00',\n",
    "            '15:00', '16:00', '17:00',\n",
    "            '18:00', '19:00', '20:00',\n",
    "            '21:00', '22:00', '23:00',\n",
    "        ],\n",
    "        'leadtime_hour': '0',\n",
    "        'format': 'netcdf',\n",
    "        'area': [\n",
    "            45.65, 8.69, 45.15,\n",
    "            9.56,\n",
    "        ],\n",
    "    },\n",
    "    filePath+fileName)\n",
    "    \n",
    "    return"
   ]
  },
  {
   "cell_type": "code",
   "execution_count": null,
   "id": "647b7736-9405-4293-bfb9-9875ba127fbb",
   "metadata": {},
   "outputs": [],
   "source": [
    "for y in range(len(years)):\n",
    "    my_year = years[y]    \n",
    "    for m in range(len(months)):\n",
    "        my_month = months[m]\n",
    "        if my_month in month_with_days_30:\n",
    "            myDate = my_year+'-'+my_month+'-01/' +  my_year+'-'+my_month+'-30'\n",
    "            print(myDate)\n",
    "            downloadOriginalFile(my_year,my_month,filePath,myDate)            \n",
    "        elif my_month in month_with_days_31:\n",
    "            myDate = my_year+'-'+my_month+'-01/' +  my_year+'-'+my_month+'-31'\n",
    "            print(myDate)\n",
    "            downloadOriginalFile(my_year,my_month,filePath,myDate)            \n",
    "        else:\n",
    "            my_year_int = int(my_year)\n",
    "            if (my_year_int%4==0) and (my_year_int%100 !=0) or (my_year_int%400)==0:\n",
    "                myDate = my_year+'-'+my_month+'-01/' +  my_year+'-'+my_month+'-29'\n",
    "                print(myDate)\n",
    "                downloadOriginalFile(my_year,my_month,filePath,myDate)\n",
    "            else:\n",
    "                myDate = my_year+'-'+my_month+'-01/' +  my_year+'-'+my_month+'-28'\n",
    "                print(myDate)\n",
    "                downloadOriginalFile(my_year,my_month,filePath,myDate)\n",
    "            \n",
    "\n"
   ]
  },
  {
   "cell_type": "code",
   "execution_count": null,
   "id": "73c06b14-c3e4-4102-a8b5-ade4d3413f11",
   "metadata": {
    "tags": []
   },
   "outputs": [],
   "source": []
  },
  {
   "cell_type": "markdown",
   "id": "43d972e5-3360-4df7-b93a-b54328e6b729",
   "metadata": {},
   "source": [
    "# 0. 使用py脚本下载一年的数据并读取"
   ]
  },
  {
   "cell_type": "code",
   "execution_count": null,
   "id": "752f8fe9-9c13-4e69-b71b-45737d2dcb7b",
   "metadata": {},
   "outputs": [],
   "source": [
    "ds_name = 'cams-europe-air-quality-forecasts'\n",
    "ds_year = '2020'\n",
    "ds_variable = 'nitrogen_dioxide'\n",
    "ds_area = [45.65, 8.69, 45.15,9.56]\n",
    "ds_bounds = 0\n",
    "ds_province = 'Milano'\n",
    "filePath = 'F:\\\\NCFILE\\\\'"
   ]
  },
  {
   "cell_type": "code",
   "execution_count": null,
   "id": "41e98ccb-66de-417b-ae9b-0b6ec49abdb9",
   "metadata": {},
   "outputs": [],
   "source": [
    "fileIndex = downloadYear.loopDownoad(ds_name, ds_year, ds_variable, ds_area, ds_bounds, ds_province)\n",
    "fileIndex"
   ]
  },
  {
   "cell_type": "code",
   "execution_count": null,
   "id": "eb470c5f-7aef-4345-b5a9-b32a4ee446d0",
   "metadata": {},
   "outputs": [],
   "source": [
    "rdataAll = xr.open_mfdataset(filePath + fileIndex + '*.nc',combine='nested', concat_dim='time')\n",
    "rdataAll.shape"
   ]
  },
  {
   "cell_type": "code",
   "execution_count": null,
   "id": "01221f05-d57e-44b1-a785-f419c12d3b1b",
   "metadata": {},
   "outputs": [],
   "source": [
    "rdataAll.rio.write_crs(\"epsg:4326\", inplace=True)\n",
    "# data[\"pm2p5_conc\"][0].rio.to_raster('test.tif')\n",
    "rdataAll = rdataAll.assign_coords(longitude=(((rdataAll.longitude + 180) % 360) - 180)).sortby('longitude')  "
   ]
  },
  {
   "cell_type": "code",
   "execution_count": null,
   "id": "2a23b821-ea2f-48d6-ac35-123b974fdc62",
   "metadata": {},
   "outputs": [],
   "source": [
    "if ds_variable == 'nitrogen_dioxide':\n",
    "    rdata_values = rdataAll.no2_conc.values\n",
    "    key_values = 'no2_conc'\n",
    "elif ds_variable == 'particulate_matter_10um':\n",
    "    rdata_values = rdataAll.pm10_conc.values\n",
    "    key_values = 'pm10_conc'\n",
    "elif ds_variable == 'sulphur_dioxide':\n",
    "    rdata_values = rdataAll.so2_conc.values\n",
    "    key_values = 'so2_conc'\n",
    "elif ds_variable == 'ozone':\n",
    "    rdata_values = rdataAll.o3_conc.values\n",
    "    key_values = 'o3_conc'\n",
    "elif ds_variable == 'carbon_monoxide':\n",
    "    rdata_values = rdataAll.co_conc.values\n",
    "    key_values = 'co_conc'\n",
    "elif ds_variable == 'particulate_matter_2.5um':\n",
    "    rdata_values = rdataAll.pm2p5_conc.values\n",
    "    key_values = 'pm2p5_conc'"
   ]
  },
  {
   "cell_type": "code",
   "execution_count": null,
   "id": "9a391c75-40ae-4d7c-a057-be130fa008c1",
   "metadata": {},
   "outputs": [],
   "source": [
    "rdata_values.shape"
   ]
  },
  {
   "cell_type": "code",
   "execution_count": null,
   "id": "db6ed783-925c-4ae6-b156-98bbf3297d5f",
   "metadata": {},
   "outputs": [],
   "source": [
    "mean_each_time_data = np.reshape(np.nanmean(rdata_values, axis=(2,3)),(1,-1))"
   ]
  },
  {
   "cell_type": "code",
   "execution_count": null,
   "id": "a2aaa8d2-a6bc-43f1-af55-0ee6d03e8291",
   "metadata": {},
   "outputs": [],
   "source": [
    "mean_each_time_data.shape"
   ]
  },
  {
   "cell_type": "markdown",
   "id": "87f639d6-aa10-4295-9b17-f3e5ae7c9981",
   "metadata": {},
   "source": [
    "# 1. 普通下载"
   ]
  },
  {
   "cell_type": "code",
   "execution_count": null,
   "id": "bd3c4adf-9ad8-46a8-a32a-92de31b4d503",
   "metadata": {},
   "outputs": [],
   "source": [
    "c = cdsapi.Client()\n",
    "\n",
    "c.retrieve(\n",
    "    'cams-europe-air-quality-forecasts',\n",
    "    {\n",
    "        'variable': 'nitrogen_dioxide',\n",
    "        'model': 'ensemble',\n",
    "        'level': '0',\n",
    "        'date': mydate,\n",
    "        'type': 'analysis',\n",
    "        'time': [\n",
    "            '00:00', '01:00', '02:00',\n",
    "            '03:00', '04:00', '05:00',\n",
    "            '06:00', '07:00', '08:00',\n",
    "            '09:00', '10:00', '11:00',\n",
    "            '12:00', '13:00', '14:00',\n",
    "            '15:00', '16:00', '17:00',\n",
    "            '18:00', '19:00', '20:00',\n",
    "            '21:00', '22:00', '23:00',\n",
    "        ],\n",
    "        'leadtime_hour': '0',\n",
    "        'format': 'netcdf',\n",
    "    },\n",
    "    'downloadest.nc')"
   ]
  },
  {
   "cell_type": "code",
   "execution_count": null,
   "id": "b5f57ce9-33ba-4996-9fca-07395a0ee76d",
   "metadata": {},
   "outputs": [],
   "source": [
    "rdata = xr.open_dataset('C:\\\\Users\\\\Administrator\\\\Desktop\\\\SA\\data\\\\YearData\\\\e6f1c8c196314c06bf10b506dc9036122020nitrogen_dioxide.nc')"
   ]
  },
  {
   "cell_type": "code",
   "execution_count": null,
   "id": "fc598233-0c46-4475-b5f4-481d5232958d",
   "metadata": {},
   "outputs": [],
   "source": [
    "rdata"
   ]
  },
  {
   "cell_type": "code",
   "execution_count": null,
   "id": "00a2a585-7cee-458b-b7de-0b812497e08d",
   "metadata": {},
   "outputs": [],
   "source": []
  },
  {
   "cell_type": "markdown",
   "id": "e1baebbf-8af2-4d53-ae45-4d2236c2291c",
   "metadata": {},
   "source": [
    "# 2. 将多个nc文件合并"
   ]
  },
  {
   "cell_type": "code",
   "execution_count": null,
   "id": "81a9f927-de1f-428a-802a-57cb3b3c46b7",
   "metadata": {},
   "outputs": [],
   "source": [
    "ds = xr.open_mfdataset('F:\\\\NCFILE\\\\CAMS_2020*.nc',combine='nested', concat_dim='time')\n",
    "ds"
   ]
  },
  {
   "cell_type": "code",
   "execution_count": null,
   "id": "32c4d3a5-9136-4840-b555-1d6014d04a74",
   "metadata": {},
   "outputs": [],
   "source": [
    "ds.no2_conc.values"
   ]
  },
  {
   "cell_type": "code",
   "execution_count": null,
   "id": "f50bceea-e17c-487f-8997-8926dd9169ba",
   "metadata": {},
   "outputs": [],
   "source": [
    "ds.to_netcdf('F:\\\\NCFILE\\\\CAMS_2020.nc')"
   ]
  },
  {
   "cell_type": "code",
   "execution_count": null,
   "id": "8a36e492-d0d6-403b-9e46-7141ac74e17c",
   "metadata": {},
   "outputs": [],
   "source": []
  },
  {
   "cell_type": "markdown",
   "id": "4d3215b9-2425-4c6d-aa7c-481e1371707b",
   "metadata": {},
   "source": [
    "# 判断文件是否存在"
   ]
  },
  {
   "cell_type": "code",
   "execution_count": 12,
   "id": "f57f9c99-de8f-4ff7-8310-39e951670fd9",
   "metadata": {},
   "outputs": [],
   "source": [
    "filePath = 'F:\\\\NCFILE\\\\'\n",
    "fileIndex = 'Milano_nitrogen_dioxide_2020'\n",
    "# DE300_particulate_matter_2.5um_2020_01"
   ]
  },
  {
   "cell_type": "code",
   "execution_count": 13,
   "id": "c2703199-9bd4-44aa-b173-6b76b3af97b0",
   "metadata": {},
   "outputs": [
    {
     "name": "stdout",
     "output_type": "stream",
     "text": [
      "True\n"
     ]
    }
   ],
   "source": [
    "isExist = os.path.exists(filePath+fileIndex+'_12.nc')\n",
    "print(isExist)"
   ]
  },
  {
   "cell_type": "code",
   "execution_count": 4,
   "id": "28cfe7dd-921d-422d-bfae-b2f6789cf9a8",
   "metadata": {},
   "outputs": [
    {
     "data": {
      "text/plain": [
       "'F:\\\\NCFILE\\\\Milano_nitrogen_dioxide_2020*.nc'"
      ]
     },
     "execution_count": 4,
     "metadata": {},
     "output_type": "execute_result"
    }
   ],
   "source": [
    "filePath+fileIndex+'*.nc'"
   ]
  },
  {
   "cell_type": "code",
   "execution_count": null,
   "id": "90ed52ba-2b29-4e01-80be-60fd85dc23c4",
   "metadata": {},
   "outputs": [],
   "source": []
  }
 ],
 "metadata": {
  "kernelspec": {
   "display_name": "Python 3 (ipykernel)",
   "language": "python",
   "name": "python3"
  },
  "language_info": {
   "codemirror_mode": {
    "name": "ipython",
    "version": 3
   },
   "file_extension": ".py",
   "mimetype": "text/x-python",
   "name": "python",
   "nbconvert_exporter": "python",
   "pygments_lexer": "ipython3",
   "version": "3.7.12"
  }
 },
 "nbformat": 4,
 "nbformat_minor": 5
}
